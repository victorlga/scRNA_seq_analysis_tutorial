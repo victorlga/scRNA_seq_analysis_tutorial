{
 "cells": [
  {
   "cell_type": "code",
   "execution_count": null,
   "metadata": {},
   "outputs": [],
   "source": [
    "import numpy as np\n",
    "import os\n",
    "import requests\n",
    "import sys\n",
    "sys.path.insert(1, '../')\n",
    "import scanpy as sc\n",
    "from scipy.sparse import csr_matrix\n",
    "import scvi\n",
    "from utils import pp"
   ]
  },
  {
   "cell_type": "code",
   "execution_count": null,
   "metadata": {},
   "outputs": [],
   "source": [
    "response = requests.get('https://www.gsea-msigdb.org/gsea/msigdb/download_geneset.jsp?geneSetName=KEGG_RIBOSOME&fileType=json').json()\n",
    "ribo_genes = response[\"KEGG_RIBOSOME\"]['geneSymbols']\n",
    "\n",
    "ribo_genes = np.array(ribo_genes)"
   ]
  },
  {
   "cell_type": "code",
   "execution_count": null,
   "metadata": {},
   "outputs": [],
   "source": [
    "files = os.listdir('../data/raw_data/')\n",
    "len(files)\n"
   ]
  },
  {
   "cell_type": "code",
   "execution_count": null,
   "metadata": {},
   "outputs": [],
   "source": [
    "out = []\n",
    "\n",
    "for file in files:\n",
    "    adata = pp('../data/raw_data/' + file, ribo_genes)\n",
    "    out.append(adata)"
   ]
  },
  {
   "cell_type": "code",
   "execution_count": null,
   "metadata": {},
   "outputs": [],
   "source": [
    "adata = sc.concat(out)\n",
    "out = None\n",
    "sc.pp.filter_genes(adata, min_cells=10)\n",
    "adata.X = csr_matrix(adata.X)\n",
    "adata.X"
   ]
  },
  {
   "cell_type": "code",
   "execution_count": null,
   "metadata": {},
   "outputs": [],
   "source": [
    "adata.write_h5ad('../data/processed_data/adata.h5ad')"
   ]
  },
  {
   "cell_type": "code",
   "execution_count": null,
   "metadata": {},
   "outputs": [],
   "source": [
    "adata.obs.groupby('Sample').count()"
   ]
  },
  {
   "cell_type": "code",
   "execution_count": null,
   "metadata": {},
   "outputs": [],
   "source": [
    "sc.pp.filter_genes(adata, min_cells=100)\n",
    "adata"
   ]
  },
  {
   "cell_type": "code",
   "execution_count": null,
   "metadata": {},
   "outputs": [],
   "source": [
    "adata.layers[\"counts\"] = adata.X.copy()"
   ]
  },
  {
   "cell_type": "code",
   "execution_count": null,
   "metadata": {},
   "outputs": [],
   "source": [
    "sc.pp.normalize_total(adata, target_sum=1e4)\n",
    "sc.pp.log1p(adata)\n",
    "adata.raw = adata"
   ]
  },
  {
   "cell_type": "code",
   "execution_count": null,
   "metadata": {},
   "outputs": [],
   "source": [
    "scvi.model.SCVI.setup_anndata(adata,\n",
    "                              layer=\"counts\",\n",
    "                              categorical_covariate_keys=[\"Sample\"],\n",
    "                              categorical_covariate_keys=[\"pct_counts_mt\", \"total_counts\", \"pct_counts_ribo\"])\n",
    "\n",
    "model = scvi.model.SCVI(adata)\n",
    "model.train()"
   ]
  },
  {
   "cell_type": "code",
   "execution_count": null,
   "metadata": {},
   "outputs": [],
   "source": [
    "adata.obsm['X_scVI'] = model.get_latent_representation()\n",
    "adata.layers['scvi_normalized'] = model.get_normalized_expression(library_size=1e4)"
   ]
  },
  {
   "cell_type": "code",
   "execution_count": null,
   "metadata": {},
   "outputs": [],
   "source": [
    "sc.pp.neighbors(adata, use_rep='X_scVI')\n",
    "sc.tl.umap(adata)\n",
    "sc.tl.leiden(adata, color=['leiden', 'Sample'], frameon=False)\n",
    "sc.pl.umap(adata, color=['leiden', 'Sample'], frameon=False)"
   ]
  },
  {
   "cell_type": "code",
   "execution_count": null,
   "metadata": {},
   "outputs": [],
   "source": [
    "adata.write_h5ad('../data/processed_data/scvi_integrated_data.h5ad')"
   ]
  },
  {
   "cell_type": "markdown",
   "metadata": {},
   "source": [
    "## Find markers and label cell types"
   ]
  },
  {
   "cell_type": "code",
   "execution_count": null,
   "metadata": {},
   "outputs": [],
   "source": [
    "sc.tl.leiden(adata, resolution=0.9) # Inscreasing resolution to separate CD4+ T cells and CD8+ T cells"
   ]
  },
  {
   "cell_type": "code",
   "execution_count": null,
   "metadata": {},
   "outputs": [],
   "source": [
    "sc.tl.rank_genes_groups(adata, 'leiden')"
   ]
  },
  {
   "cell_type": "code",
   "execution_count": null,
   "metadata": {},
   "outputs": [],
   "source": [
    "#sc.pl.rank_genes_groups(adata, n_genes=20, shharey=False)"
   ]
  },
  {
   "cell_type": "code",
   "execution_count": null,
   "metadata": {},
   "outputs": [],
   "source": [
    "markers = sc.get.rank_genes_groups_df(adata, None)\n",
    "markers = markers[(markers.pvals_adj < 0.05) & (markers.logfoldchanges > .5)]\n",
    "markers"
   ]
  },
  {
   "cell_type": "code",
   "execution_count": null,
   "metadata": {},
   "outputs": [],
   "source": [
    "markers_scvi = model.differential_expression(groupby='leiden')\n",
    "markers_scvi"
   ]
  },
  {
   "cell_type": "code",
   "execution_count": null,
   "metadata": {},
   "outputs": [],
   "source": [
    "markers_scvi = markers_scvi[(markers_scvi['is_de_fdr_0.05']) & (markers_scvi.lfc_mean > .5)]\n",
    "markers_scvi"
   ]
  },
  {
   "cell_type": "code",
   "execution_count": null,
   "metadata": {},
   "outputs": [],
   "source": [
    "sc.pl.umap(adata, color = ['EPCAM', 'MUC1'], frameon = False, layer = 'scvi_normalized', vmax = 5)\n",
    "#, layer = 'scvi_normalized'"
   ]
  },
  {
   "cell_type": "code",
   "execution_count": null,
   "metadata": {},
   "outputs": [],
   "source": [
    "cell_type = {\"0\":\"Macrophage\",\n",
    "\"1\":\"Fibroblast\",\n",
    "\"2\":\"CD4+ T-cell\",\n",
    "\"3\":\"AT2\",\n",
    "\"4\":\"AT1\",\n",
    "\"5\":\"CD8+ T-cell\",\n",
    "\"6\":\"Endothelial cell\",\n",
    "\"7\":\"Plasma cell\",\n",
    "\"8\":\"Macrophage\",\n",
    "\"9\":\"AT2\",\n",
    "\"10\":\"Fibroblast\",\n",
    "\"11\":\"Fibroblast\",\n",
    "\"12\":\"Macrophage\",\n",
    "\"13\":\"Macrophage\",\n",
    "\"14\":\"Airway epithelial\",\n",
    "\"15\":\"Airway epithelial\",\n",
    "\"16\":\"Monocyte\",\n",
    "\"17\":\"Airway epithelial\",\n",
    "\"18\":\"B-cell\",\n",
    "\"19\":\"Aerocyte\",\n",
    "\"20\":\"Airway epithelial\",\n",
    "\"21\":\"Smooth muscle cell\",\n",
    "\"22\":\"Cycling T/NK\",\n",
    "\"23\":\"Neuronal cell\",\n",
    "\"24\":\"Denditic cell\",\n",
    "\"25\":\"Pericyte\",\n",
    "\"26\":\"Fibroblast\",\n",
    "\"27\":\"Erythroid-like\",\n",
    "\"28\":\"Macrophage\"\n",
    "}"
   ]
  },
  {
   "cell_type": "code",
   "execution_count": null,
   "metadata": {},
   "outputs": [],
   "source": [
    "adata.obs['cell_type'] = adata.obs.leiden.map(cell_type)\n",
    "sc.pl.umap(adata, color = ['cell type'], frameon = False)"
   ]
  },
  {
   "cell_type": "code",
   "execution_count": null,
   "metadata": {},
   "outputs": [],
   "source": [
    "adata.uns['scvi_markers'] = markers_scvi\n",
    "adata.uns['markers'] = markers\n",
    "adata.write_h5ad('../data/processed_data/scvi_integrated_data.h5ad')\n",
    "model.save('model.model')"
   ]
  }
 ],
 "metadata": {
  "celltoolbar": "Raw Cell Format",
  "kernelspec": {
   "display_name": "Python 3 (ipykernel)",
   "language": "python",
   "name": "python3"
  },
  "language_info": {
   "codemirror_mode": {
    "name": "ipython",
    "version": 3
   },
   "file_extension": ".py",
   "mimetype": "text/x-python",
   "name": "python",
   "nbconvert_exporter": "python",
   "pygments_lexer": "ipython3",
   "version": "3.10.12"
  }
 },
 "nbformat": 4,
 "nbformat_minor": 2
}
