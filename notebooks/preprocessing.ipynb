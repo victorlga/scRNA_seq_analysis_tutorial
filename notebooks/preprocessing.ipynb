{
 "cells": [
  {
   "cell_type": "code",
   "execution_count": 116,
   "metadata": {},
   "outputs": [],
   "source": [
    "import numpy as np\n",
    "import pandas as pd\n",
    "import pathlib\n",
    "import scanpy as sc\n",
    "import scvi\n",
    "import seaborn as sns"
   ]
  },
  {
   "cell_type": "code",
   "execution_count": 79,
   "metadata": {},
   "outputs": [],
   "source": [
    "DATA_DIR = pathlib.Path.cwd().parent / 'data'\n",
    "SAMPLE_RAW_DATA_PATH = DATA_DIR / 'raw_data' / 'GSM5226574_C51ctr_raw_counts.csv.gz'"
   ]
  },
  {
   "cell_type": "code",
   "execution_count": 80,
   "metadata": {},
   "outputs": [
    {
     "data": {
      "text/plain": [
       "AnnData object with n_obs × n_vars = 6099 × 34546"
      ]
     },
     "execution_count": 80,
     "metadata": {},
     "output_type": "execute_result"
    }
   ],
   "source": [
    "sample_data = sc.read_csv(SAMPLE_RAW_DATA_PATH).T\n",
    "sample_data"
   ]
  },
  {
   "cell_type": "markdown",
   "metadata": {},
   "source": [
    "## Doublet removal"
   ]
  },
  {
   "cell_type": "code",
   "execution_count": 81,
   "metadata": {},
   "outputs": [],
   "source": [
    "# Filter genes expressed in less than 10 cells\n",
    "sc.pp.filter_genes(sample_data, min_cells=10)"
   ]
  },
  {
   "cell_type": "code",
   "execution_count": 82,
   "metadata": {},
   "outputs": [],
   "source": [
    "# Keep only top 2000 highly variable genes\n",
    "sc.pp.highly_variable_genes(sample_data, n_top_genes=2000, subset=True, flavor='seurat_v3')"
   ]
  },
  {
   "cell_type": "code",
   "execution_count": 83,
   "metadata": {},
   "outputs": [
    {
     "name": "stderr",
     "output_type": "stream",
     "text": [
      "GPU available: True (cuda), used: True\n",
      "TPU available: False, using: 0 TPU cores\n",
      "IPU available: False, using: 0 IPUs\n",
      "HPU available: False, using: 0 HPUs\n",
      "LOCAL_RANK: 0 - CUDA_VISIBLE_DEVICES: [0]\n"
     ]
    },
    {
     "name": "stdout",
     "output_type": "stream",
     "text": [
      "Epoch 400/400: 100%|██████████| 400/400 [02:28<00:00,  2.71it/s, v_num=1, train_loss_step=283, train_loss_epoch=323]"
     ]
    },
    {
     "name": "stderr",
     "output_type": "stream",
     "text": [
      "`Trainer.fit` stopped: `max_epochs=400` reached.\n"
     ]
    },
    {
     "name": "stdout",
     "output_type": "stream",
     "text": [
      "Epoch 400/400: 100%|██████████| 400/400 [02:28<00:00,  2.69it/s, v_num=1, train_loss_step=283, train_loss_epoch=323]\n"
     ]
    }
   ],
   "source": [
    "scvi.model.SCVI.setup_anndata(sample_data)\n",
    "model = scvi.model.SCVI(sample_data)\n",
    "model.train()"
   ]
  },
  {
   "cell_type": "code",
   "execution_count": 84,
   "metadata": {},
   "outputs": [
    {
     "name": "stdout",
     "output_type": "stream",
     "text": [
      "\u001b[34mINFO    \u001b[0m Creating doublets, preparing SOLO model.                                                                  \n"
     ]
    },
    {
     "name": "stderr",
     "output_type": "stream",
     "text": [
      "GPU available: True (cuda), used: True\n",
      "TPU available: False, using: 0 TPU cores\n",
      "IPU available: False, using: 0 IPUs\n",
      "HPU available: False, using: 0 HPUs\n",
      "LOCAL_RANK: 0 - CUDA_VISIBLE_DEVICES: [0]\n"
     ]
    },
    {
     "name": "stdout",
     "output_type": "stream",
     "text": [
      "Epoch 211/400:  53%|█████▎    | 211/400 [00:53<00:48,  3.91it/s, v_num=1, train_loss_step=0.273, train_loss_epoch=0.285]\n",
      "Monitored metric validation_loss did not improve in the last 30 records. Best score: 0.287. Signaling Trainer to stop.\n"
     ]
    }
   ],
   "source": [
    "solo = scvi.external.SOLO.from_scvi_model(model, sample_data)\n",
    "solo.train()"
   ]
  },
  {
   "cell_type": "code",
   "execution_count": 85,
   "metadata": {},
   "outputs": [
    {
     "data": {
      "text/html": [
       "<div>\n",
       "<style scoped>\n",
       "    .dataframe tbody tr th:only-of-type {\n",
       "        vertical-align: middle;\n",
       "    }\n",
       "\n",
       "    .dataframe tbody tr th {\n",
       "        vertical-align: top;\n",
       "    }\n",
       "\n",
       "    .dataframe thead th {\n",
       "        text-align: right;\n",
       "    }\n",
       "</style>\n",
       "<table border=\"1\" class=\"dataframe\">\n",
       "  <thead>\n",
       "    <tr style=\"text-align: right;\">\n",
       "      <th></th>\n",
       "      <th>doublet</th>\n",
       "      <th>singlet</th>\n",
       "      <th>prediction</th>\n",
       "    </tr>\n",
       "  </thead>\n",
       "  <tbody>\n",
       "    <tr>\n",
       "      <th>TAGGTACCATGGCCAC-1</th>\n",
       "      <td>0.016004</td>\n",
       "      <td>-0.816736</td>\n",
       "      <td>doublet</td>\n",
       "    </tr>\n",
       "    <tr>\n",
       "      <th>ATTCACTGTAACAGGC-1</th>\n",
       "      <td>0.932583</td>\n",
       "      <td>-1.565432</td>\n",
       "      <td>doublet</td>\n",
       "    </tr>\n",
       "    <tr>\n",
       "      <th>TAACTTCCAACCACGC-1</th>\n",
       "      <td>0.122472</td>\n",
       "      <td>-0.324930</td>\n",
       "      <td>doublet</td>\n",
       "    </tr>\n",
       "    <tr>\n",
       "      <th>TTGGGTACACGACAAG-1</th>\n",
       "      <td>-0.091546</td>\n",
       "      <td>-0.871438</td>\n",
       "      <td>doublet</td>\n",
       "    </tr>\n",
       "    <tr>\n",
       "      <th>AGGCCACAGAGTCACG-1</th>\n",
       "      <td>0.136089</td>\n",
       "      <td>-0.910898</td>\n",
       "      <td>doublet</td>\n",
       "    </tr>\n",
       "    <tr>\n",
       "      <th>...</th>\n",
       "      <td>...</td>\n",
       "      <td>...</td>\n",
       "      <td>...</td>\n",
       "    </tr>\n",
       "    <tr>\n",
       "      <th>CGCCATTGTTTGCCGG-1</th>\n",
       "      <td>-1.386011</td>\n",
       "      <td>1.319305</td>\n",
       "      <td>singlet</td>\n",
       "    </tr>\n",
       "    <tr>\n",
       "      <th>CACTGGGGTCTACGTA-1</th>\n",
       "      <td>-2.570051</td>\n",
       "      <td>2.899939</td>\n",
       "      <td>singlet</td>\n",
       "    </tr>\n",
       "    <tr>\n",
       "      <th>CATACTTGTAGAGGAA-1</th>\n",
       "      <td>-2.375021</td>\n",
       "      <td>2.799108</td>\n",
       "      <td>singlet</td>\n",
       "    </tr>\n",
       "    <tr>\n",
       "      <th>TTTGGTTTCCACGGAC-1</th>\n",
       "      <td>-2.182600</td>\n",
       "      <td>1.873963</td>\n",
       "      <td>singlet</td>\n",
       "    </tr>\n",
       "    <tr>\n",
       "      <th>ATGCATGAGTCATGAA-1</th>\n",
       "      <td>-2.302341</td>\n",
       "      <td>2.746559</td>\n",
       "      <td>singlet</td>\n",
       "    </tr>\n",
       "  </tbody>\n",
       "</table>\n",
       "<p>6099 rows × 3 columns</p>\n",
       "</div>"
      ],
      "text/plain": [
       "                     doublet   singlet prediction\n",
       "TAGGTACCATGGCCAC-1  0.016004 -0.816736    doublet\n",
       "ATTCACTGTAACAGGC-1  0.932583 -1.565432    doublet\n",
       "TAACTTCCAACCACGC-1  0.122472 -0.324930    doublet\n",
       "TTGGGTACACGACAAG-1 -0.091546 -0.871438    doublet\n",
       "AGGCCACAGAGTCACG-1  0.136089 -0.910898    doublet\n",
       "...                      ...       ...        ...\n",
       "CGCCATTGTTTGCCGG-1 -1.386011  1.319305    singlet\n",
       "CACTGGGGTCTACGTA-1 -2.570051  2.899939    singlet\n",
       "CATACTTGTAGAGGAA-1 -2.375021  2.799108    singlet\n",
       "TTTGGTTTCCACGGAC-1 -2.182600  1.873963    singlet\n",
       "ATGCATGAGTCATGAA-1 -2.302341  2.746559    singlet\n",
       "\n",
       "[6099 rows x 3 columns]"
      ]
     },
     "execution_count": 85,
     "metadata": {},
     "output_type": "execute_result"
    }
   ],
   "source": [
    "df = solo.predict()\n",
    "df['prediction'] = solo.predict(soft = False)\n",
    "\n",
    "df.index = df.index.map(lambda x: x[:-2])\n",
    "\n",
    "df"
   ]
  },
  {
   "cell_type": "code",
   "execution_count": 86,
   "metadata": {},
   "outputs": [
    {
     "data": {
      "text/html": [
       "<div>\n",
       "<style scoped>\n",
       "    .dataframe tbody tr th:only-of-type {\n",
       "        vertical-align: middle;\n",
       "    }\n",
       "\n",
       "    .dataframe tbody tr th {\n",
       "        vertical-align: top;\n",
       "    }\n",
       "\n",
       "    .dataframe thead th {\n",
       "        text-align: right;\n",
       "    }\n",
       "</style>\n",
       "<table border=\"1\" class=\"dataframe\">\n",
       "  <thead>\n",
       "    <tr style=\"text-align: right;\">\n",
       "      <th></th>\n",
       "      <th>doublet</th>\n",
       "      <th>singlet</th>\n",
       "    </tr>\n",
       "    <tr>\n",
       "      <th>prediction</th>\n",
       "      <th></th>\n",
       "      <th></th>\n",
       "    </tr>\n",
       "  </thead>\n",
       "  <tbody>\n",
       "    <tr>\n",
       "      <th>doublet</th>\n",
       "      <td>1017</td>\n",
       "      <td>1017</td>\n",
       "    </tr>\n",
       "    <tr>\n",
       "      <th>singlet</th>\n",
       "      <td>5082</td>\n",
       "      <td>5082</td>\n",
       "    </tr>\n",
       "  </tbody>\n",
       "</table>\n",
       "</div>"
      ],
      "text/plain": [
       "            doublet  singlet\n",
       "prediction                  \n",
       "doublet        1017     1017\n",
       "singlet        5082     5082"
      ]
     },
     "execution_count": 86,
     "metadata": {},
     "output_type": "execute_result"
    }
   ],
   "source": [
    "df.groupby('prediction').count()"
   ]
  },
  {
   "cell_type": "code",
   "execution_count": 87,
   "metadata": {},
   "outputs": [
    {
     "data": {
      "text/html": [
       "<div>\n",
       "<style scoped>\n",
       "    .dataframe tbody tr th:only-of-type {\n",
       "        vertical-align: middle;\n",
       "    }\n",
       "\n",
       "    .dataframe tbody tr th {\n",
       "        vertical-align: top;\n",
       "    }\n",
       "\n",
       "    .dataframe thead th {\n",
       "        text-align: right;\n",
       "    }\n",
       "</style>\n",
       "<table border=\"1\" class=\"dataframe\">\n",
       "  <thead>\n",
       "    <tr style=\"text-align: right;\">\n",
       "      <th></th>\n",
       "      <th>doublet</th>\n",
       "      <th>singlet</th>\n",
       "      <th>prediction</th>\n",
       "      <th>dif</th>\n",
       "    </tr>\n",
       "  </thead>\n",
       "  <tbody>\n",
       "    <tr>\n",
       "      <th>TAGGTACCATGGCCAC-1</th>\n",
       "      <td>0.016004</td>\n",
       "      <td>-0.816736</td>\n",
       "      <td>doublet</td>\n",
       "      <td>0.832740</td>\n",
       "    </tr>\n",
       "    <tr>\n",
       "      <th>ATTCACTGTAACAGGC-1</th>\n",
       "      <td>0.932583</td>\n",
       "      <td>-1.565432</td>\n",
       "      <td>doublet</td>\n",
       "      <td>2.498016</td>\n",
       "    </tr>\n",
       "    <tr>\n",
       "      <th>TAACTTCCAACCACGC-1</th>\n",
       "      <td>0.122472</td>\n",
       "      <td>-0.324930</td>\n",
       "      <td>doublet</td>\n",
       "      <td>0.447401</td>\n",
       "    </tr>\n",
       "    <tr>\n",
       "      <th>TTGGGTACACGACAAG-1</th>\n",
       "      <td>-0.091546</td>\n",
       "      <td>-0.871438</td>\n",
       "      <td>doublet</td>\n",
       "      <td>0.779892</td>\n",
       "    </tr>\n",
       "    <tr>\n",
       "      <th>AGGCCACAGAGTCACG-1</th>\n",
       "      <td>0.136089</td>\n",
       "      <td>-0.910898</td>\n",
       "      <td>doublet</td>\n",
       "      <td>1.046986</td>\n",
       "    </tr>\n",
       "    <tr>\n",
       "      <th>...</th>\n",
       "      <td>...</td>\n",
       "      <td>...</td>\n",
       "      <td>...</td>\n",
       "      <td>...</td>\n",
       "    </tr>\n",
       "    <tr>\n",
       "      <th>CGCCATTGTTTGCCGG-1</th>\n",
       "      <td>-1.386011</td>\n",
       "      <td>1.319305</td>\n",
       "      <td>singlet</td>\n",
       "      <td>-2.705316</td>\n",
       "    </tr>\n",
       "    <tr>\n",
       "      <th>CACTGGGGTCTACGTA-1</th>\n",
       "      <td>-2.570051</td>\n",
       "      <td>2.899939</td>\n",
       "      <td>singlet</td>\n",
       "      <td>-5.469990</td>\n",
       "    </tr>\n",
       "    <tr>\n",
       "      <th>CATACTTGTAGAGGAA-1</th>\n",
       "      <td>-2.375021</td>\n",
       "      <td>2.799108</td>\n",
       "      <td>singlet</td>\n",
       "      <td>-5.174129</td>\n",
       "    </tr>\n",
       "    <tr>\n",
       "      <th>TTTGGTTTCCACGGAC-1</th>\n",
       "      <td>-2.182600</td>\n",
       "      <td>1.873963</td>\n",
       "      <td>singlet</td>\n",
       "      <td>-4.056564</td>\n",
       "    </tr>\n",
       "    <tr>\n",
       "      <th>ATGCATGAGTCATGAA-1</th>\n",
       "      <td>-2.302341</td>\n",
       "      <td>2.746559</td>\n",
       "      <td>singlet</td>\n",
       "      <td>-5.048901</td>\n",
       "    </tr>\n",
       "  </tbody>\n",
       "</table>\n",
       "<p>6099 rows × 4 columns</p>\n",
       "</div>"
      ],
      "text/plain": [
       "                     doublet   singlet prediction       dif\n",
       "TAGGTACCATGGCCAC-1  0.016004 -0.816736    doublet  0.832740\n",
       "ATTCACTGTAACAGGC-1  0.932583 -1.565432    doublet  2.498016\n",
       "TAACTTCCAACCACGC-1  0.122472 -0.324930    doublet  0.447401\n",
       "TTGGGTACACGACAAG-1 -0.091546 -0.871438    doublet  0.779892\n",
       "AGGCCACAGAGTCACG-1  0.136089 -0.910898    doublet  1.046986\n",
       "...                      ...       ...        ...       ...\n",
       "CGCCATTGTTTGCCGG-1 -1.386011  1.319305    singlet -2.705316\n",
       "CACTGGGGTCTACGTA-1 -2.570051  2.899939    singlet -5.469990\n",
       "CATACTTGTAGAGGAA-1 -2.375021  2.799108    singlet -5.174129\n",
       "TTTGGTTTCCACGGAC-1 -2.182600  1.873963    singlet -4.056564\n",
       "ATGCATGAGTCATGAA-1 -2.302341  2.746559    singlet -5.048901\n",
       "\n",
       "[6099 rows x 4 columns]"
      ]
     },
     "execution_count": 87,
     "metadata": {},
     "output_type": "execute_result"
    }
   ],
   "source": [
    "df['dif'] = df.doublet - df.singlet\n",
    "df"
   ]
  },
  {
   "cell_type": "code",
   "execution_count": 88,
   "metadata": {},
   "outputs": [
    {
     "name": "stderr",
     "output_type": "stream",
     "text": [
      "/home/victor/anaconda3/envs/rna/lib/python3.10/site-packages/seaborn/axisgrid.py:123: UserWarning: The figure layout has changed to tight\n",
      "  self._figure.tight_layout(*args, **kwargs)\n"
     ]
    },
    {
     "data": {
      "text/plain": [
       "<seaborn.axisgrid.FacetGrid at 0x7f074029a9e0>"
      ]
     },
     "execution_count": 88,
     "metadata": {},
     "output_type": "execute_result"
    },
    {
     "data": {
      "image/png": "[encoded data removed]",
      "text/plain": [
       "<Figure size 500x500 with 1 Axes>"
      ]
     },
     "metadata": {},
     "output_type": "display_data"
    }
   ],
   "source": [
    "sns.displot(df[df.prediction == 'doublet'], x = 'dif')"
   ]
  },
  {
   "cell_type": "code",
   "execution_count": 89,
   "metadata": {},
   "outputs": [
    {
     "data": {
      "text/html": [
       "<div>\n",
       "<style scoped>\n",
       "    .dataframe tbody tr th:only-of-type {\n",
       "        vertical-align: middle;\n",
       "    }\n",
       "\n",
       "    .dataframe tbody tr th {\n",
       "        vertical-align: top;\n",
       "    }\n",
       "\n",
       "    .dataframe thead th {\n",
       "        text-align: right;\n",
       "    }\n",
       "</style>\n",
       "<table border=\"1\" class=\"dataframe\">\n",
       "  <thead>\n",
       "    <tr style=\"text-align: right;\">\n",
       "      <th></th>\n",
       "      <th>doublet</th>\n",
       "      <th>singlet</th>\n",
       "      <th>prediction</th>\n",
       "      <th>dif</th>\n",
       "    </tr>\n",
       "  </thead>\n",
       "  <tbody>\n",
       "    <tr>\n",
       "      <th>ATTCACTGTAACAGGC-1</th>\n",
       "      <td>0.932583</td>\n",
       "      <td>-1.565432</td>\n",
       "      <td>doublet</td>\n",
       "      <td>2.498016</td>\n",
       "    </tr>\n",
       "    <tr>\n",
       "      <th>AGGCCACAGAGTCACG-1</th>\n",
       "      <td>0.136089</td>\n",
       "      <td>-0.910898</td>\n",
       "      <td>doublet</td>\n",
       "      <td>1.046986</td>\n",
       "    </tr>\n",
       "    <tr>\n",
       "      <th>CACTGAAGTCGAAGCA-1</th>\n",
       "      <td>1.453389</td>\n",
       "      <td>-1.922149</td>\n",
       "      <td>doublet</td>\n",
       "      <td>3.375538</td>\n",
       "    </tr>\n",
       "    <tr>\n",
       "      <th>ACTGATGTCTGCACCT-1</th>\n",
       "      <td>1.920868</td>\n",
       "      <td>-1.464083</td>\n",
       "      <td>doublet</td>\n",
       "      <td>3.384950</td>\n",
       "    </tr>\n",
       "    <tr>\n",
       "      <th>CCACGAGTCTCTTAAC-1</th>\n",
       "      <td>0.542825</td>\n",
       "      <td>-1.018460</td>\n",
       "      <td>doublet</td>\n",
       "      <td>1.561285</td>\n",
       "    </tr>\n",
       "    <tr>\n",
       "      <th>...</th>\n",
       "      <td>...</td>\n",
       "      <td>...</td>\n",
       "      <td>...</td>\n",
       "      <td>...</td>\n",
       "    </tr>\n",
       "    <tr>\n",
       "      <th>TGCGATACAGGACTAG-1</th>\n",
       "      <td>0.729539</td>\n",
       "      <td>-0.378849</td>\n",
       "      <td>doublet</td>\n",
       "      <td>1.108388</td>\n",
       "    </tr>\n",
       "    <tr>\n",
       "      <th>CAATACGCAATGTGGG-1</th>\n",
       "      <td>0.751478</td>\n",
       "      <td>-0.292480</td>\n",
       "      <td>doublet</td>\n",
       "      <td>1.043958</td>\n",
       "    </tr>\n",
       "    <tr>\n",
       "      <th>AAAGAACGTACACTCA-1</th>\n",
       "      <td>0.568477</td>\n",
       "      <td>-0.648536</td>\n",
       "      <td>doublet</td>\n",
       "      <td>1.217013</td>\n",
       "    </tr>\n",
       "    <tr>\n",
       "      <th>ATCAGGTGTCGTCTCT-1</th>\n",
       "      <td>0.706472</td>\n",
       "      <td>-0.713628</td>\n",
       "      <td>doublet</td>\n",
       "      <td>1.420100</td>\n",
       "    </tr>\n",
       "    <tr>\n",
       "      <th>GTGGGAAGTGATACCT-1</th>\n",
       "      <td>0.806313</td>\n",
       "      <td>-0.735987</td>\n",
       "      <td>doublet</td>\n",
       "      <td>1.542300</td>\n",
       "    </tr>\n",
       "  </tbody>\n",
       "</table>\n",
       "<p>368 rows × 4 columns</p>\n",
       "</div>"
      ],
      "text/plain": [
       "                     doublet   singlet prediction       dif\n",
       "ATTCACTGTAACAGGC-1  0.932583 -1.565432    doublet  2.498016\n",
       "AGGCCACAGAGTCACG-1  0.136089 -0.910898    doublet  1.046986\n",
       "CACTGAAGTCGAAGCA-1  1.453389 -1.922149    doublet  3.375538\n",
       "ACTGATGTCTGCACCT-1  1.920868 -1.464083    doublet  3.384950\n",
       "CCACGAGTCTCTTAAC-1  0.542825 -1.018460    doublet  1.561285\n",
       "...                      ...       ...        ...       ...\n",
       "TGCGATACAGGACTAG-1  0.729539 -0.378849    doublet  1.108388\n",
       "CAATACGCAATGTGGG-1  0.751478 -0.292480    doublet  1.043958\n",
       "AAAGAACGTACACTCA-1  0.568477 -0.648536    doublet  1.217013\n",
       "ATCAGGTGTCGTCTCT-1  0.706472 -0.713628    doublet  1.420100\n",
       "GTGGGAAGTGATACCT-1  0.806313 -0.735987    doublet  1.542300\n",
       "\n",
       "[368 rows x 4 columns]"
      ]
     },
     "execution_count": 89,
     "metadata": {},
     "output_type": "execute_result"
    }
   ],
   "source": [
    "doublets = df[(df.prediction == 'doublet') & (df.dif > 1)]\n",
    "doublets"
   ]
  },
  {
   "cell_type": "code",
   "execution_count": 94,
   "metadata": {},
   "outputs": [
    {
     "data": {
      "text/plain": [
       "AnnData object with n_obs × n_vars = 6099 × 34546"
      ]
     },
     "execution_count": 94,
     "metadata": {},
     "output_type": "execute_result"
    }
   ],
   "source": [
    "sample_data = sc.read_csv(SAMPLE_RAW_DATA_PATH).T\n",
    "sample_data"
   ]
  },
  {
   "cell_type": "code",
   "execution_count": 95,
   "metadata": {},
   "outputs": [],
   "source": [
    "sample_data.obs.index = sample_data.obs.index.map(lambda x: x[:-2])\n",
    "sample_data.obs['doublet'] = sample_data.obs.index.isin(doublets.index)"
   ]
  },
  {
   "cell_type": "code",
   "execution_count": 96,
   "metadata": {},
   "outputs": [
    {
     "data": {
      "text/html": [
       "<div>\n",
       "<style scoped>\n",
       "    .dataframe tbody tr th:only-of-type {\n",
       "        vertical-align: middle;\n",
       "    }\n",
       "\n",
       "    .dataframe tbody tr th {\n",
       "        vertical-align: top;\n",
       "    }\n",
       "\n",
       "    .dataframe thead th {\n",
       "        text-align: right;\n",
       "    }\n",
       "</style>\n",
       "<table border=\"1\" class=\"dataframe\">\n",
       "  <thead>\n",
       "    <tr style=\"text-align: right;\">\n",
       "      <th></th>\n",
       "      <th>doublet</th>\n",
       "    </tr>\n",
       "  </thead>\n",
       "  <tbody>\n",
       "    <tr>\n",
       "      <th>TAGGTACCATGGCCAC-1</th>\n",
       "      <td>False</td>\n",
       "    </tr>\n",
       "    <tr>\n",
       "      <th>ATTCACTGTAACAGGC-1</th>\n",
       "      <td>True</td>\n",
       "    </tr>\n",
       "    <tr>\n",
       "      <th>TAACTTCCAACCACGC-1</th>\n",
       "      <td>False</td>\n",
       "    </tr>\n",
       "    <tr>\n",
       "      <th>TTGGGTACACGACAAG-1</th>\n",
       "      <td>False</td>\n",
       "    </tr>\n",
       "    <tr>\n",
       "      <th>AGGCCACAGAGTCACG-1</th>\n",
       "      <td>True</td>\n",
       "    </tr>\n",
       "    <tr>\n",
       "      <th>...</th>\n",
       "      <td>...</td>\n",
       "    </tr>\n",
       "    <tr>\n",
       "      <th>CGCCATTGTTTGCCGG-1</th>\n",
       "      <td>False</td>\n",
       "    </tr>\n",
       "    <tr>\n",
       "      <th>CACTGGGGTCTACGTA-1</th>\n",
       "      <td>False</td>\n",
       "    </tr>\n",
       "    <tr>\n",
       "      <th>CATACTTGTAGAGGAA-1</th>\n",
       "      <td>False</td>\n",
       "    </tr>\n",
       "    <tr>\n",
       "      <th>TTTGGTTTCCACGGAC-1</th>\n",
       "      <td>False</td>\n",
       "    </tr>\n",
       "    <tr>\n",
       "      <th>ATGCATGAGTCATGAA-1</th>\n",
       "      <td>False</td>\n",
       "    </tr>\n",
       "  </tbody>\n",
       "</table>\n",
       "<p>6099 rows × 1 columns</p>\n",
       "</div>"
      ],
      "text/plain": [
       "                    doublet\n",
       "TAGGTACCATGGCCAC-1    False\n",
       "ATTCACTGTAACAGGC-1     True\n",
       "TAACTTCCAACCACGC-1    False\n",
       "TTGGGTACACGACAAG-1    False\n",
       "AGGCCACAGAGTCACG-1     True\n",
       "...                     ...\n",
       "CGCCATTGTTTGCCGG-1    False\n",
       "CACTGGGGTCTACGTA-1    False\n",
       "CATACTTGTAGAGGAA-1    False\n",
       "TTTGGTTTCCACGGAC-1    False\n",
       "ATGCATGAGTCATGAA-1    False\n",
       "\n",
       "[6099 rows x 1 columns]"
      ]
     },
     "execution_count": 96,
     "metadata": {},
     "output_type": "execute_result"
    }
   ],
   "source": [
    "sample_data.obs"
   ]
  },
  {
   "cell_type": "code",
   "execution_count": 97,
   "metadata": {},
   "outputs": [],
   "source": [
    "sample_data = sample_data[~sample_data.obs.doublet]"
   ]
  },
  {
   "cell_type": "code",
   "execution_count": 98,
   "metadata": {},
   "outputs": [
    {
     "data": {
      "text/plain": [
       "View of AnnData object with n_obs × n_vars = 5731 × 34546\n",
       "    obs: 'doublet'"
      ]
     },
     "execution_count": 98,
     "metadata": {},
     "output_type": "execute_result"
    }
   ],
   "source": [
    "sample_data"
   ]
  },
  {
   "cell_type": "markdown",
   "metadata": {},
   "source": [
    "## Preprocessing"
   ]
  },
  {
   "cell_type": "code",
   "execution_count": 111,
   "metadata": {},
   "outputs": [],
   "source": [
    "sample_data.var['mt'] = sample_data.var.index.str.startswith('MT-')"
   ]
  },
  {
   "cell_type": "code",
   "execution_count": 118,
   "metadata": {},
   "outputs": [
    {
     "name": "stdout",
     "output_type": "stream",
     "text": [
      "88\n"
     ]
    }
   ],
   "source": [
    "# Endpoint to retrieve the list of ribosomal genes was returning 404,\n",
    "# so I manually copied the list from the tutorial\n",
    "ribo_genes = ['FAU','MRPL13', 'RPL10', 'RPL10A','RPL10L', 'RPL11', 'RPL12', \\\n",
    " 'RPL13', 'RPL13A', 'RPL14', 'RPL15', 'RPL17', 'RPL18', 'RPL18A', \\\n",
    " 'RPL19', 'RPL21', 'RPL22', 'RPL22L1', 'RPL23', 'RPL23A', 'RPL24', \\\n",
    " 'RPL26', 'RPL26L1', 'RPL27', 'RPL27A', 'RPL28', 'RPL29', 'RPL3', \\\n",
    " 'RPL30', 'RPL31', 'RPL32', 'RPL34', 'RPL35', 'RPL35A', 'RPL36', \\\n",
    " 'RPL36A', 'RPL36AL', 'RPL37', 'RPL37A', 'RPL38', 'RPL39','RPL3L', \\\n",
    " 'RPL4', 'RPL41', 'RPL5', 'RPL6', 'RPL7', 'RPL7A', 'RPL8', 'RPL9', \\\n",
    " 'RPLP0', 'RPLP1', 'RPLP2', 'RPS10', 'RPS11', 'RPS12', 'RPS13', \\\n",
    " 'RPS15', 'RPS15A', 'RPS16', 'RPS17', 'RPS18', 'RPS19', 'RPS2', \\\n",
    " 'RPS20', 'RPS21', 'RPS23', 'RPS24', 'RPS25', 'RPS26', 'RPS27', \\\n",
    " 'RPS27A', 'RPS27L', 'RPS28', 'RPS29', 'RPS3', 'RPS3A', 'RPS4X', \\\n",
    " 'RPS4Y1', 'RPS5', 'RPS6', 'RPS7', 'RPS8', 'RPS9', 'RPSA', 'RSL24D1', \\\n",
    " 'RPSL24D1P11', 'UBA52']\n",
    "\n",
    "ribo_genes = np.array(ribo_genes)"
   ]
  },
  {
   "cell_type": "code",
   "execution_count": 119,
   "metadata": {},
   "outputs": [],
   "source": [
    "sample_data.var['ribo'] = sample_data.var.index.isin(ribo_genes)"
   ]
  },
  {
   "cell_type": "code",
   "execution_count": 122,
   "metadata": {},
   "outputs": [
    {
     "data": {
      "text/html": [
       "<div>\n",
       "<style scoped>\n",
       "    .dataframe tbody tr th:only-of-type {\n",
       "        vertical-align: middle;\n",
       "    }\n",
       "\n",
       "    .dataframe tbody tr th {\n",
       "        vertical-align: top;\n",
       "    }\n",
       "\n",
       "    .dataframe thead th {\n",
       "        text-align: right;\n",
       "    }\n",
       "</style>\n",
       "<table border=\"1\" class=\"dataframe\">\n",
       "  <thead>\n",
       "    <tr style=\"text-align: right;\">\n",
       "      <th></th>\n",
       "      <th>mt</th>\n",
       "      <th>ribo</th>\n",
       "    </tr>\n",
       "  </thead>\n",
       "  <tbody>\n",
       "    <tr>\n",
       "      <th>RPL22</th>\n",
       "      <td>False</td>\n",
       "      <td>True</td>\n",
       "    </tr>\n",
       "    <tr>\n",
       "      <th>RPL11</th>\n",
       "      <td>False</td>\n",
       "      <td>True</td>\n",
       "    </tr>\n",
       "    <tr>\n",
       "      <th>RPS8</th>\n",
       "      <td>False</td>\n",
       "      <td>True</td>\n",
       "    </tr>\n",
       "    <tr>\n",
       "      <th>RPL5</th>\n",
       "      <td>False</td>\n",
       "      <td>True</td>\n",
       "    </tr>\n",
       "    <tr>\n",
       "      <th>RPS27</th>\n",
       "      <td>False</td>\n",
       "      <td>True</td>\n",
       "    </tr>\n",
       "    <tr>\n",
       "      <th>...</th>\n",
       "      <td>...</td>\n",
       "      <td>...</td>\n",
       "    </tr>\n",
       "    <tr>\n",
       "      <th>RPS4X</th>\n",
       "      <td>False</td>\n",
       "      <td>True</td>\n",
       "    </tr>\n",
       "    <tr>\n",
       "      <th>RPL36A</th>\n",
       "      <td>False</td>\n",
       "      <td>True</td>\n",
       "    </tr>\n",
       "    <tr>\n",
       "      <th>RPL39</th>\n",
       "      <td>False</td>\n",
       "      <td>True</td>\n",
       "    </tr>\n",
       "    <tr>\n",
       "      <th>RPL10</th>\n",
       "      <td>False</td>\n",
       "      <td>True</td>\n",
       "    </tr>\n",
       "    <tr>\n",
       "      <th>RPS4Y1</th>\n",
       "      <td>False</td>\n",
       "      <td>True</td>\n",
       "    </tr>\n",
       "  </tbody>\n",
       "</table>\n",
       "<p>86 rows × 2 columns</p>\n",
       "</div>"
      ],
      "text/plain": [
       "           mt  ribo\n",
       "RPL22   False  True\n",
       "RPL11   False  True\n",
       "RPS8    False  True\n",
       "RPL5    False  True\n",
       "RPS27   False  True\n",
       "...       ...   ...\n",
       "RPS4X   False  True\n",
       "RPL36A  False  True\n",
       "RPL39   False  True\n",
       "RPL10   False  True\n",
       "RPS4Y1  False  True\n",
       "\n",
       "[86 rows x 2 columns]"
      ]
     },
     "execution_count": 122,
     "metadata": {},
     "output_type": "execute_result"
    }
   ],
   "source": [
    "sample_data.var[sample_data.var.ribo == True]"
   ]
  },
  {
   "cell_type": "code",
   "execution_count": 124,
   "metadata": {},
   "outputs": [],
   "source": [
    "sc.pp.calculate_qc_metrics(sample_data, qc_vars=['mt', 'ribo'], percent_top=None, log1p=False, inplace=True)"
   ]
  },
  {
   "cell_type": "code",
   "execution_count": 126,
   "metadata": {},
   "outputs": [
    {
     "data": {
      "text/html": [
       "<div>\n",
       "<style scoped>\n",
       "    .dataframe tbody tr th:only-of-type {\n",
       "        vertical-align: middle;\n",
       "    }\n",
       "\n",
       "    .dataframe tbody tr th {\n",
       "        vertical-align: top;\n",
       "    }\n",
       "\n",
       "    .dataframe thead th {\n",
       "        text-align: right;\n",
       "    }\n",
       "</style>\n",
       "<table border=\"1\" class=\"dataframe\">\n",
       "  <thead>\n",
       "    <tr style=\"text-align: right;\">\n",
       "      <th></th>\n",
       "      <th>doublet</th>\n",
       "      <th>n_genes_by_counts</th>\n",
       "      <th>total_counts</th>\n",
       "      <th>total_counts_mt</th>\n",
       "      <th>pct_counts_mt</th>\n",
       "      <th>total_counts_ribo</th>\n",
       "      <th>pct_counts_ribo</th>\n",
       "    </tr>\n",
       "  </thead>\n",
       "  <tbody>\n",
       "    <tr>\n",
       "      <th>TAGGTACCATGGCCAC-1</th>\n",
       "      <td>False</td>\n",
       "      <td>6764</td>\n",
       "      <td>24256.0</td>\n",
       "      <td>153.0</td>\n",
       "      <td>0.630772</td>\n",
       "      <td>55.0</td>\n",
       "      <td>0.226748</td>\n",
       "    </tr>\n",
       "    <tr>\n",
       "      <th>TAACTTCCAACCACGC-1</th>\n",
       "      <td>False</td>\n",
       "      <td>5158</td>\n",
       "      <td>15645.0</td>\n",
       "      <td>221.0</td>\n",
       "      <td>1.412592</td>\n",
       "      <td>211.0</td>\n",
       "      <td>1.348674</td>\n",
       "    </tr>\n",
       "    <tr>\n",
       "      <th>TTGGGTACACGACAAG-1</th>\n",
       "      <td>False</td>\n",
       "      <td>4900</td>\n",
       "      <td>15220.0</td>\n",
       "      <td>3.0</td>\n",
       "      <td>0.019711</td>\n",
       "      <td>5.0</td>\n",
       "      <td>0.032852</td>\n",
       "    </tr>\n",
       "    <tr>\n",
       "      <th>TTACCGCCACTCAGAT-1</th>\n",
       "      <td>False</td>\n",
       "      <td>4144</td>\n",
       "      <td>11369.0</td>\n",
       "      <td>39.0</td>\n",
       "      <td>0.343038</td>\n",
       "      <td>5.0</td>\n",
       "      <td>0.043979</td>\n",
       "    </tr>\n",
       "    <tr>\n",
       "      <th>TTGGTTTTCCTAGCTC-1</th>\n",
       "      <td>False</td>\n",
       "      <td>3902</td>\n",
       "      <td>11472.0</td>\n",
       "      <td>463.0</td>\n",
       "      <td>4.035913</td>\n",
       "      <td>13.0</td>\n",
       "      <td>0.113319</td>\n",
       "    </tr>\n",
       "    <tr>\n",
       "      <th>...</th>\n",
       "      <td>...</td>\n",
       "      <td>...</td>\n",
       "      <td>...</td>\n",
       "      <td>...</td>\n",
       "      <td>...</td>\n",
       "      <td>...</td>\n",
       "      <td>...</td>\n",
       "    </tr>\n",
       "    <tr>\n",
       "      <th>CGCCATTGTTTGCCGG-1</th>\n",
       "      <td>False</td>\n",
       "      <td>355</td>\n",
       "      <td>410.0</td>\n",
       "      <td>3.0</td>\n",
       "      <td>0.731707</td>\n",
       "      <td>0.0</td>\n",
       "      <td>0.000000</td>\n",
       "    </tr>\n",
       "    <tr>\n",
       "      <th>CACTGGGGTCTACGTA-1</th>\n",
       "      <td>False</td>\n",
       "      <td>346</td>\n",
       "      <td>403.0</td>\n",
       "      <td>0.0</td>\n",
       "      <td>0.000000</td>\n",
       "      <td>0.0</td>\n",
       "      <td>0.000000</td>\n",
       "    </tr>\n",
       "    <tr>\n",
       "      <th>CATACTTGTAGAGGAA-1</th>\n",
       "      <td>False</td>\n",
       "      <td>360</td>\n",
       "      <td>410.0</td>\n",
       "      <td>2.0</td>\n",
       "      <td>0.487805</td>\n",
       "      <td>0.0</td>\n",
       "      <td>0.000000</td>\n",
       "    </tr>\n",
       "    <tr>\n",
       "      <th>TTTGGTTTCCACGGAC-1</th>\n",
       "      <td>False</td>\n",
       "      <td>299</td>\n",
       "      <td>405.0</td>\n",
       "      <td>0.0</td>\n",
       "      <td>0.000000</td>\n",
       "      <td>2.0</td>\n",
       "      <td>0.493827</td>\n",
       "    </tr>\n",
       "    <tr>\n",
       "      <th>ATGCATGAGTCATGAA-1</th>\n",
       "      <td>False</td>\n",
       "      <td>351</td>\n",
       "      <td>411.0</td>\n",
       "      <td>0.0</td>\n",
       "      <td>0.000000</td>\n",
       "      <td>0.0</td>\n",
       "      <td>0.000000</td>\n",
       "    </tr>\n",
       "  </tbody>\n",
       "</table>\n",
       "<p>5731 rows × 7 columns</p>\n",
       "</div>"
      ],
      "text/plain": [
       "                    doublet  n_genes_by_counts  total_counts  total_counts_mt  \\\n",
       "TAGGTACCATGGCCAC-1    False               6764       24256.0            153.0   \n",
       "TAACTTCCAACCACGC-1    False               5158       15645.0            221.0   \n",
       "TTGGGTACACGACAAG-1    False               4900       15220.0              3.0   \n",
       "TTACCGCCACTCAGAT-1    False               4144       11369.0             39.0   \n",
       "TTGGTTTTCCTAGCTC-1    False               3902       11472.0            463.0   \n",
       "...                     ...                ...           ...              ...   \n",
       "CGCCATTGTTTGCCGG-1    False                355         410.0              3.0   \n",
       "CACTGGGGTCTACGTA-1    False                346         403.0              0.0   \n",
       "CATACTTGTAGAGGAA-1    False                360         410.0              2.0   \n",
       "TTTGGTTTCCACGGAC-1    False                299         405.0              0.0   \n",
       "ATGCATGAGTCATGAA-1    False                351         411.0              0.0   \n",
       "\n",
       "                    pct_counts_mt  total_counts_ribo  pct_counts_ribo  \n",
       "TAGGTACCATGGCCAC-1       0.630772               55.0         0.226748  \n",
       "TAACTTCCAACCACGC-1       1.412592              211.0         1.348674  \n",
       "TTGGGTACACGACAAG-1       0.019711                5.0         0.032852  \n",
       "TTACCGCCACTCAGAT-1       0.343038                5.0         0.043979  \n",
       "TTGGTTTTCCTAGCTC-1       4.035913               13.0         0.113319  \n",
       "...                           ...                ...              ...  \n",
       "CGCCATTGTTTGCCGG-1       0.731707                0.0         0.000000  \n",
       "CACTGGGGTCTACGTA-1       0.000000                0.0         0.000000  \n",
       "CATACTTGTAGAGGAA-1       0.487805                0.0         0.000000  \n",
       "TTTGGTTTCCACGGAC-1       0.000000                2.0         0.493827  \n",
       "ATGCATGAGTCATGAA-1       0.000000                0.0         0.000000  \n",
       "\n",
       "[5731 rows x 7 columns]"
      ]
     },
     "execution_count": 126,
     "metadata": {},
     "output_type": "execute_result"
    }
   ],
   "source": [
    "sample_data.obs"
   ]
  },
  {
   "cell_type": "code",
   "execution_count": null,
   "metadata": {},
   "outputs": [],
   "source": []
  }
 ],
 "metadata": {
  "kernelspec": {
   "display_name": "rna",
   "language": "python",
   "name": "python3"
  },
  "language_info": {
   "codemirror_mode": {
    "name": "ipython",
    "version": 3
   },
   "file_extension": ".py",
   "mimetype": "text/x-python",
   "name": "python",
   "nbconvert_exporter": "python",
   "pygments_lexer": "ipython3",
   "version": "3.10.13"
  }
 },
 "nbformat": 4,
 "nbformat_minor": 2
}
