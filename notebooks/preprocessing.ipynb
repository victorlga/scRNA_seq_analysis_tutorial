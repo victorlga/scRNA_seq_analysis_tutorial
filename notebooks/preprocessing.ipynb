{
 "cells": [
  {
   "cell_type": "code",
   "execution_count": 1,
   "metadata": {},
   "outputs": [
    {
     "name": "stderr",
     "output_type": "stream",
     "text": [
      "/home/victor/anaconda3/envs/rna/lib/python3.10/site-packages/scvi/_settings.py:63: UserWarning: Since v1.0.0, scvi-tools no longer uses a random seed by default. Run `scvi.settings.seed = 0` to reproduce results from previous versions.\n",
      "  self.seed = seed\n",
      "/home/victor/anaconda3/envs/rna/lib/python3.10/site-packages/scvi/_settings.py:70: UserWarning: Setting `dl_pin_memory_gpu_training` is deprecated in v1.0 and will be removed in v1.1. Please pass in `pin_memory` to the data loaders instead.\n",
      "  self.dl_pin_memory_gpu_training = (\n",
      "/home/victor/anaconda3/envs/rna/lib/python3.10/site-packages/tqdm/auto.py:21: TqdmWarning: IProgress not found. Please update jupyter and ipywidgets. See https://ipywidgets.readthedocs.io/en/stable/user_install.html\n",
      "  from .autonotebook import tqdm as notebook_tqdm\n"
     ]
    }
   ],
   "source": [
    "import numpy as np\n",
    "import pandas as pd\n",
    "import pathlib\n",
    "import requests\n",
    "import scanpy as sc\n",
    "import seaborn as sns\n",
    "import scvi"
   ]
  },
  {
   "cell_type": "code",
   "execution_count": 2,
   "metadata": {},
   "outputs": [],
   "source": [
    "DATA_DIR = pathlib.Path.cwd().parent / 'data'\n",
    "SAMPLE_RAW_DATA_PATH = DATA_DIR / 'raw_data' / 'GSM5226574_C51ctr_raw_counts.csv.gz'"
   ]
  },
  {
   "cell_type": "code",
   "execution_count": 3,
   "metadata": {},
   "outputs": [
    {
     "data": {
      "text/plain": [
       "AnnData object with n_obs × n_vars = 6099 × 34546"
      ]
     },
     "execution_count": 3,
     "metadata": {},
     "output_type": "execute_result"
    }
   ],
   "source": [
    "adata = sc.read_csv(SAMPLE_RAW_DATA_PATH).T\n",
    "adata"
   ]
  },
  {
   "cell_type": "markdown",
   "metadata": {},
   "source": [
    "## Doublet removal"
   ]
  },
  {
   "cell_type": "code",
   "execution_count": 4,
   "metadata": {},
   "outputs": [],
   "source": [
    "# Filter genes expressed in less than 10 cells\n",
    "sc.pp.filter_genes(adata, min_cells=10)"
   ]
  },
  {
   "cell_type": "code",
   "execution_count": 5,
   "metadata": {},
   "outputs": [],
   "source": [
    "# Keep only top 2000 highly variable genes\n",
    "sc.pp.highly_variable_genes(adata, n_top_genes=2000, subset=True, flavor='seurat_v3')"
   ]
  },
  {
   "cell_type": "code",
   "execution_count": 6,
   "metadata": {},
   "outputs": [
    {
     "name": "stderr",
     "output_type": "stream",
     "text": [
      "/home/victor/anaconda3/envs/rna/lib/python3.10/abc.py:119: FutureWarning: SparseDataset is deprecated and will be removed in late 2024. It has been replaced by the public classes CSRDataset and CSCDataset.\n",
      "\n",
      "For instance checks, use `isinstance(X, (anndata.experimental.CSRDataset, anndata.experimental.CSCDataset))` instead.\n",
      "\n",
      "For creation, use `anndata.experimental.sparse_dataset(X)` instead.\n",
      "\n",
      "  return _abc_instancecheck(cls, instance)\n",
      "An NVIDIA GPU may be present on this machine, but a CUDA-enabled jaxlib is not installed. Falling back to cpu.\n",
      "GPU available: True (cuda), used: True\n",
      "TPU available: False, using: 0 TPU cores\n",
      "IPU available: False, using: 0 IPUs\n",
      "HPU available: False, using: 0 HPUs\n",
      "LOCAL_RANK: 0 - CUDA_VISIBLE_DEVICES: [0]\n"
     ]
    },
    {
     "name": "stdout",
     "output_type": "stream",
     "text": [
      "Epoch 400/400: 100%|██████████| 400/400 [02:31<00:00,  2.64it/s, v_num=1, train_loss_step=345, train_loss_epoch=322]"
     ]
    },
    {
     "name": "stderr",
     "output_type": "stream",
     "text": [
      "`Trainer.fit` stopped: `max_epochs=400` reached.\n"
     ]
    },
    {
     "name": "stdout",
     "output_type": "stream",
     "text": [
      "Epoch 400/400: 100%|██████████| 400/400 [02:31<00:00,  2.65it/s, v_num=1, train_loss_step=345, train_loss_epoch=322]\n"
     ]
    }
   ],
   "source": [
    "scvi.model.SCVI.setup_anndata(adata)\n",
    "model = scvi.model.SCVI(adata)\n",
    "model.train()"
   ]
  },
  {
   "cell_type": "code",
   "execution_count": 7,
   "metadata": {},
   "outputs": [
    {
     "name": "stdout",
     "output_type": "stream",
     "text": [
      "\u001b[34mINFO    \u001b[0m Creating doublets, preparing SOLO model.                                                                  \n"
     ]
    },
    {
     "name": "stderr",
     "output_type": "stream",
     "text": [
      "GPU available: True (cuda), used: True\n",
      "TPU available: False, using: 0 TPU cores\n",
      "IPU available: False, using: 0 IPUs\n",
      "HPU available: False, using: 0 HPUs\n",
      "LOCAL_RANK: 0 - CUDA_VISIBLE_DEVICES: [0]\n"
     ]
    },
    {
     "name": "stdout",
     "output_type": "stream",
     "text": [
      "Epoch 300/400:  75%|███████▌  | 300/400 [01:15<00:25,  3.98it/s, v_num=1, train_loss_step=0.273, train_loss_epoch=0.297]\n",
      "Monitored metric validation_loss did not improve in the last 30 records. Best score: 0.267. Signaling Trainer to stop.\n"
     ]
    }
   ],
   "source": [
    "solo = scvi.external.SOLO.from_scvi_model(model, adata)\n",
    "solo.train()"
   ]
  },
  {
   "cell_type": "code",
   "execution_count": 8,
   "metadata": {},
   "outputs": [
    {
     "data": {
      "text/html": [
       "<div>\n",
       "<style scoped>\n",
       "    .dataframe tbody tr th:only-of-type {\n",
       "        vertical-align: middle;\n",
       "    }\n",
       "\n",
       "    .dataframe tbody tr th {\n",
       "        vertical-align: top;\n",
       "    }\n",
       "\n",
       "    .dataframe thead th {\n",
       "        text-align: right;\n",
       "    }\n",
       "</style>\n",
       "<table border=\"1\" class=\"dataframe\">\n",
       "  <thead>\n",
       "    <tr style=\"text-align: right;\">\n",
       "      <th></th>\n",
       "      <th>doublet</th>\n",
       "      <th>singlet</th>\n",
       "      <th>prediction</th>\n",
       "    </tr>\n",
       "  </thead>\n",
       "  <tbody>\n",
       "    <tr>\n",
       "      <th>TAGGTACCATGGCCAC-1_1</th>\n",
       "      <td>1.270193</td>\n",
       "      <td>-2.842817</td>\n",
       "      <td>doublet</td>\n",
       "    </tr>\n",
       "    <tr>\n",
       "      <th>ATTCACTGTAACAGGC-1_1</th>\n",
       "      <td>0.629768</td>\n",
       "      <td>-1.794621</td>\n",
       "      <td>doublet</td>\n",
       "    </tr>\n",
       "    <tr>\n",
       "      <th>TAACTTCCAACCACGC-1_1</th>\n",
       "      <td>-0.640146</td>\n",
       "      <td>-0.519895</td>\n",
       "      <td>singlet</td>\n",
       "    </tr>\n",
       "    <tr>\n",
       "      <th>TTGGGTACACGACAAG-1_1</th>\n",
       "      <td>0.144315</td>\n",
       "      <td>-1.863139</td>\n",
       "      <td>doublet</td>\n",
       "    </tr>\n",
       "    <tr>\n",
       "      <th>AGGCCACAGAGTCACG-1_1</th>\n",
       "      <td>0.485670</td>\n",
       "      <td>-1.549205</td>\n",
       "      <td>doublet</td>\n",
       "    </tr>\n",
       "    <tr>\n",
       "      <th>...</th>\n",
       "      <td>...</td>\n",
       "      <td>...</td>\n",
       "      <td>...</td>\n",
       "    </tr>\n",
       "    <tr>\n",
       "      <th>CGCCATTGTTTGCCGG-1_1</th>\n",
       "      <td>-2.402599</td>\n",
       "      <td>1.484210</td>\n",
       "      <td>singlet</td>\n",
       "    </tr>\n",
       "    <tr>\n",
       "      <th>CACTGGGGTCTACGTA-1_1</th>\n",
       "      <td>-4.307249</td>\n",
       "      <td>3.702875</td>\n",
       "      <td>singlet</td>\n",
       "    </tr>\n",
       "    <tr>\n",
       "      <th>CATACTTGTAGAGGAA-1_1</th>\n",
       "      <td>-3.110165</td>\n",
       "      <td>2.064673</td>\n",
       "      <td>singlet</td>\n",
       "    </tr>\n",
       "    <tr>\n",
       "      <th>TTTGGTTTCCACGGAC-1_1</th>\n",
       "      <td>-4.035552</td>\n",
       "      <td>3.361327</td>\n",
       "      <td>singlet</td>\n",
       "    </tr>\n",
       "    <tr>\n",
       "      <th>ATGCATGAGTCATGAA-1_1</th>\n",
       "      <td>-2.416909</td>\n",
       "      <td>2.423859</td>\n",
       "      <td>singlet</td>\n",
       "    </tr>\n",
       "  </tbody>\n",
       "</table>\n",
       "<p>6099 rows × 3 columns</p>\n",
       "</div>"
      ],
      "text/plain": [
       "                       doublet   singlet prediction\n",
       "TAGGTACCATGGCCAC-1_1  1.270193 -2.842817    doublet\n",
       "ATTCACTGTAACAGGC-1_1  0.629768 -1.794621    doublet\n",
       "TAACTTCCAACCACGC-1_1 -0.640146 -0.519895    singlet\n",
       "TTGGGTACACGACAAG-1_1  0.144315 -1.863139    doublet\n",
       "AGGCCACAGAGTCACG-1_1  0.485670 -1.549205    doublet\n",
       "...                        ...       ...        ...\n",
       "CGCCATTGTTTGCCGG-1_1 -2.402599  1.484210    singlet\n",
       "CACTGGGGTCTACGTA-1_1 -4.307249  3.702875    singlet\n",
       "CATACTTGTAGAGGAA-1_1 -3.110165  2.064673    singlet\n",
       "TTTGGTTTCCACGGAC-1_1 -4.035552  3.361327    singlet\n",
       "ATGCATGAGTCATGAA-1_1 -2.416909  2.423859    singlet\n",
       "\n",
       "[6099 rows x 3 columns]"
      ]
     },
     "execution_count": 8,
     "metadata": {},
     "output_type": "execute_result"
    }
   ],
   "source": [
    "df = solo.predict()\n",
    "df['prediction'] = solo.predict(soft = False)\n",
    "\n",
    "df"
   ]
  },
  {
   "cell_type": "code",
   "execution_count": 9,
   "metadata": {},
   "outputs": [
    {
     "data": {
      "text/html": [
       "<div>\n",
       "<style scoped>\n",
       "    .dataframe tbody tr th:only-of-type {\n",
       "        vertical-align: middle;\n",
       "    }\n",
       "\n",
       "    .dataframe tbody tr th {\n",
       "        vertical-align: top;\n",
       "    }\n",
       "\n",
       "    .dataframe thead th {\n",
       "        text-align: right;\n",
       "    }\n",
       "</style>\n",
       "<table border=\"1\" class=\"dataframe\">\n",
       "  <thead>\n",
       "    <tr style=\"text-align: right;\">\n",
       "      <th></th>\n",
       "      <th>doublet</th>\n",
       "      <th>singlet</th>\n",
       "    </tr>\n",
       "    <tr>\n",
       "      <th>prediction</th>\n",
       "      <th></th>\n",
       "      <th></th>\n",
       "    </tr>\n",
       "  </thead>\n",
       "  <tbody>\n",
       "    <tr>\n",
       "      <th>doublet</th>\n",
       "      <td>1337</td>\n",
       "      <td>1337</td>\n",
       "    </tr>\n",
       "    <tr>\n",
       "      <th>singlet</th>\n",
       "      <td>4762</td>\n",
       "      <td>4762</td>\n",
       "    </tr>\n",
       "  </tbody>\n",
       "</table>\n",
       "</div>"
      ],
      "text/plain": [
       "            doublet  singlet\n",
       "prediction                  \n",
       "doublet        1337     1337\n",
       "singlet        4762     4762"
      ]
     },
     "execution_count": 9,
     "metadata": {},
     "output_type": "execute_result"
    }
   ],
   "source": [
    "df.groupby('prediction').count()"
   ]
  },
  {
   "cell_type": "code",
   "execution_count": 10,
   "metadata": {},
   "outputs": [
    {
     "data": {
      "text/html": [
       "<div>\n",
       "<style scoped>\n",
       "    .dataframe tbody tr th:only-of-type {\n",
       "        vertical-align: middle;\n",
       "    }\n",
       "\n",
       "    .dataframe tbody tr th {\n",
       "        vertical-align: top;\n",
       "    }\n",
       "\n",
       "    .dataframe thead th {\n",
       "        text-align: right;\n",
       "    }\n",
       "</style>\n",
       "<table border=\"1\" class=\"dataframe\">\n",
       "  <thead>\n",
       "    <tr style=\"text-align: right;\">\n",
       "      <th></th>\n",
       "      <th>doublet</th>\n",
       "      <th>singlet</th>\n",
       "      <th>prediction</th>\n",
       "      <th>dif</th>\n",
       "    </tr>\n",
       "  </thead>\n",
       "  <tbody>\n",
       "    <tr>\n",
       "      <th>TAGGTACCATGGCCAC-1_1</th>\n",
       "      <td>1.270193</td>\n",
       "      <td>-2.842817</td>\n",
       "      <td>doublet</td>\n",
       "      <td>4.113010</td>\n",
       "    </tr>\n",
       "    <tr>\n",
       "      <th>ATTCACTGTAACAGGC-1_1</th>\n",
       "      <td>0.629768</td>\n",
       "      <td>-1.794621</td>\n",
       "      <td>doublet</td>\n",
       "      <td>2.424389</td>\n",
       "    </tr>\n",
       "    <tr>\n",
       "      <th>TAACTTCCAACCACGC-1_1</th>\n",
       "      <td>-0.640146</td>\n",
       "      <td>-0.519895</td>\n",
       "      <td>singlet</td>\n",
       "      <td>-0.120251</td>\n",
       "    </tr>\n",
       "    <tr>\n",
       "      <th>TTGGGTACACGACAAG-1_1</th>\n",
       "      <td>0.144315</td>\n",
       "      <td>-1.863139</td>\n",
       "      <td>doublet</td>\n",
       "      <td>2.007454</td>\n",
       "    </tr>\n",
       "    <tr>\n",
       "      <th>AGGCCACAGAGTCACG-1_1</th>\n",
       "      <td>0.485670</td>\n",
       "      <td>-1.549205</td>\n",
       "      <td>doublet</td>\n",
       "      <td>2.034874</td>\n",
       "    </tr>\n",
       "    <tr>\n",
       "      <th>...</th>\n",
       "      <td>...</td>\n",
       "      <td>...</td>\n",
       "      <td>...</td>\n",
       "      <td>...</td>\n",
       "    </tr>\n",
       "    <tr>\n",
       "      <th>CGCCATTGTTTGCCGG-1_1</th>\n",
       "      <td>-2.402599</td>\n",
       "      <td>1.484210</td>\n",
       "      <td>singlet</td>\n",
       "      <td>-3.886808</td>\n",
       "    </tr>\n",
       "    <tr>\n",
       "      <th>CACTGGGGTCTACGTA-1_1</th>\n",
       "      <td>-4.307249</td>\n",
       "      <td>3.702875</td>\n",
       "      <td>singlet</td>\n",
       "      <td>-8.010124</td>\n",
       "    </tr>\n",
       "    <tr>\n",
       "      <th>CATACTTGTAGAGGAA-1_1</th>\n",
       "      <td>-3.110165</td>\n",
       "      <td>2.064673</td>\n",
       "      <td>singlet</td>\n",
       "      <td>-5.174838</td>\n",
       "    </tr>\n",
       "    <tr>\n",
       "      <th>TTTGGTTTCCACGGAC-1_1</th>\n",
       "      <td>-4.035552</td>\n",
       "      <td>3.361327</td>\n",
       "      <td>singlet</td>\n",
       "      <td>-7.396879</td>\n",
       "    </tr>\n",
       "    <tr>\n",
       "      <th>ATGCATGAGTCATGAA-1_1</th>\n",
       "      <td>-2.416909</td>\n",
       "      <td>2.423859</td>\n",
       "      <td>singlet</td>\n",
       "      <td>-4.840769</td>\n",
       "    </tr>\n",
       "  </tbody>\n",
       "</table>\n",
       "<p>6099 rows × 4 columns</p>\n",
       "</div>"
      ],
      "text/plain": [
       "                       doublet   singlet prediction       dif\n",
       "TAGGTACCATGGCCAC-1_1  1.270193 -2.842817    doublet  4.113010\n",
       "ATTCACTGTAACAGGC-1_1  0.629768 -1.794621    doublet  2.424389\n",
       "TAACTTCCAACCACGC-1_1 -0.640146 -0.519895    singlet -0.120251\n",
       "TTGGGTACACGACAAG-1_1  0.144315 -1.863139    doublet  2.007454\n",
       "AGGCCACAGAGTCACG-1_1  0.485670 -1.549205    doublet  2.034874\n",
       "...                        ...       ...        ...       ...\n",
       "CGCCATTGTTTGCCGG-1_1 -2.402599  1.484210    singlet -3.886808\n",
       "CACTGGGGTCTACGTA-1_1 -4.307249  3.702875    singlet -8.010124\n",
       "CATACTTGTAGAGGAA-1_1 -3.110165  2.064673    singlet -5.174838\n",
       "TTTGGTTTCCACGGAC-1_1 -4.035552  3.361327    singlet -7.396879\n",
       "ATGCATGAGTCATGAA-1_1 -2.416909  2.423859    singlet -4.840769\n",
       "\n",
       "[6099 rows x 4 columns]"
      ]
     },
     "execution_count": 10,
     "metadata": {},
     "output_type": "execute_result"
    }
   ],
   "source": [
    "df['dif'] = df.doublet - df.singlet\n",
    "df"
   ]
  },
  {
   "cell_type": "code",
   "execution_count": 11,
   "metadata": {},
   "outputs": [
    {
     "name": "stderr",
     "output_type": "stream",
     "text": [
      "/home/victor/anaconda3/envs/rna/lib/python3.10/site-packages/seaborn/axisgrid.py:118: UserWarning: The figure layout has changed to tight\n",
      "  self._figure.tight_layout(*args, **kwargs)\n"
     ]
    },
    {
     "data": {
      "text/plain": [
       "<seaborn.axisgrid.FacetGrid at 0x7fbf41a97700>"
      ]
     },
     "execution_count": 11,
     "metadata": {},
     "output_type": "execute_result"
    },
    {
     "data": {
      "image/png": "[encoded data removed]",
      "text/plain": [
       "<Figure size 500x500 with 1 Axes>"
      ]
     },
     "metadata": {},
     "output_type": "display_data"
    }
   ],
   "source": [
    "sns.displot(df[df.prediction == 'doublet'], x = 'dif')"
   ]
  },
  {
   "cell_type": "code",
   "execution_count": 12,
   "metadata": {},
   "outputs": [
    {
     "data": {
      "text/html": [
       "<div>\n",
       "<style scoped>\n",
       "    .dataframe tbody tr th:only-of-type {\n",
       "        vertical-align: middle;\n",
       "    }\n",
       "\n",
       "    .dataframe tbody tr th {\n",
       "        vertical-align: top;\n",
       "    }\n",
       "\n",
       "    .dataframe thead th {\n",
       "        text-align: right;\n",
       "    }\n",
       "</style>\n",
       "<table border=\"1\" class=\"dataframe\">\n",
       "  <thead>\n",
       "    <tr style=\"text-align: right;\">\n",
       "      <th></th>\n",
       "      <th>doublet</th>\n",
       "      <th>singlet</th>\n",
       "      <th>prediction</th>\n",
       "      <th>dif</th>\n",
       "    </tr>\n",
       "  </thead>\n",
       "  <tbody>\n",
       "    <tr>\n",
       "      <th>TAGGTACCATGGCCAC-1_1</th>\n",
       "      <td>1.270193</td>\n",
       "      <td>-2.842817</td>\n",
       "      <td>doublet</td>\n",
       "      <td>4.113010</td>\n",
       "    </tr>\n",
       "    <tr>\n",
       "      <th>ATTCACTGTAACAGGC-1_1</th>\n",
       "      <td>0.629768</td>\n",
       "      <td>-1.794621</td>\n",
       "      <td>doublet</td>\n",
       "      <td>2.424389</td>\n",
       "    </tr>\n",
       "    <tr>\n",
       "      <th>TTGGGTACACGACAAG-1_1</th>\n",
       "      <td>0.144315</td>\n",
       "      <td>-1.863139</td>\n",
       "      <td>doublet</td>\n",
       "      <td>2.007454</td>\n",
       "    </tr>\n",
       "    <tr>\n",
       "      <th>AGGCCACAGAGTCACG-1_1</th>\n",
       "      <td>0.485670</td>\n",
       "      <td>-1.549205</td>\n",
       "      <td>doublet</td>\n",
       "      <td>2.034874</td>\n",
       "    </tr>\n",
       "    <tr>\n",
       "      <th>CACTGAAGTCGAAGCA-1_1</th>\n",
       "      <td>0.360243</td>\n",
       "      <td>-1.508410</td>\n",
       "      <td>doublet</td>\n",
       "      <td>1.868654</td>\n",
       "    </tr>\n",
       "    <tr>\n",
       "      <th>...</th>\n",
       "      <td>...</td>\n",
       "      <td>...</td>\n",
       "      <td>...</td>\n",
       "      <td>...</td>\n",
       "    </tr>\n",
       "    <tr>\n",
       "      <th>CAATACGCAATGTGGG-1_1</th>\n",
       "      <td>0.011323</td>\n",
       "      <td>-1.001105</td>\n",
       "      <td>doublet</td>\n",
       "      <td>1.012428</td>\n",
       "    </tr>\n",
       "    <tr>\n",
       "      <th>GTTAGTGGTTCGGTTA-1_1</th>\n",
       "      <td>0.105330</td>\n",
       "      <td>-0.910131</td>\n",
       "      <td>doublet</td>\n",
       "      <td>1.015462</td>\n",
       "    </tr>\n",
       "    <tr>\n",
       "      <th>ATCAGGTGTCGTCTCT-1_1</th>\n",
       "      <td>0.737757</td>\n",
       "      <td>-1.551342</td>\n",
       "      <td>doublet</td>\n",
       "      <td>2.289099</td>\n",
       "    </tr>\n",
       "    <tr>\n",
       "      <th>GGAGGTAGTTAAGCAA-1_1</th>\n",
       "      <td>0.376518</td>\n",
       "      <td>-0.927058</td>\n",
       "      <td>doublet</td>\n",
       "      <td>1.303576</td>\n",
       "    </tr>\n",
       "    <tr>\n",
       "      <th>TCATGCCCAAGAGGTC-1_1</th>\n",
       "      <td>0.517984</td>\n",
       "      <td>-1.034758</td>\n",
       "      <td>doublet</td>\n",
       "      <td>1.552742</td>\n",
       "    </tr>\n",
       "  </tbody>\n",
       "</table>\n",
       "<p>517 rows × 4 columns</p>\n",
       "</div>"
      ],
      "text/plain": [
       "                       doublet   singlet prediction       dif\n",
       "TAGGTACCATGGCCAC-1_1  1.270193 -2.842817    doublet  4.113010\n",
       "ATTCACTGTAACAGGC-1_1  0.629768 -1.794621    doublet  2.424389\n",
       "TTGGGTACACGACAAG-1_1  0.144315 -1.863139    doublet  2.007454\n",
       "AGGCCACAGAGTCACG-1_1  0.485670 -1.549205    doublet  2.034874\n",
       "CACTGAAGTCGAAGCA-1_1  0.360243 -1.508410    doublet  1.868654\n",
       "...                        ...       ...        ...       ...\n",
       "CAATACGCAATGTGGG-1_1  0.011323 -1.001105    doublet  1.012428\n",
       "GTTAGTGGTTCGGTTA-1_1  0.105330 -0.910131    doublet  1.015462\n",
       "ATCAGGTGTCGTCTCT-1_1  0.737757 -1.551342    doublet  2.289099\n",
       "GGAGGTAGTTAAGCAA-1_1  0.376518 -0.927058    doublet  1.303576\n",
       "TCATGCCCAAGAGGTC-1_1  0.517984 -1.034758    doublet  1.552742\n",
       "\n",
       "[517 rows x 4 columns]"
      ]
     },
     "execution_count": 12,
     "metadata": {},
     "output_type": "execute_result"
    }
   ],
   "source": [
    "doublets = df[(df.prediction == 'doublet') & (df.dif > 1)]\n",
    "doublets"
   ]
  },
  {
   "cell_type": "code",
   "execution_count": 13,
   "metadata": {},
   "outputs": [
    {
     "data": {
      "text/plain": [
       "AnnData object with n_obs × n_vars = 6099 × 34546"
      ]
     },
     "execution_count": 13,
     "metadata": {},
     "output_type": "execute_result"
    }
   ],
   "source": [
    "adata = sc.read_csv(SAMPLE_RAW_DATA_PATH).T\n",
    "adata"
   ]
  },
  {
   "cell_type": "code",
   "execution_count": 14,
   "metadata": {},
   "outputs": [],
   "source": [
    "adata.obs['doublet'] = adata.obs.index.isin(doublets.index)"
   ]
  },
  {
   "cell_type": "code",
   "execution_count": 15,
   "metadata": {},
   "outputs": [
    {
     "data": {
      "text/html": [
       "<div>\n",
       "<style scoped>\n",
       "    .dataframe tbody tr th:only-of-type {\n",
       "        vertical-align: middle;\n",
       "    }\n",
       "\n",
       "    .dataframe tbody tr th {\n",
       "        vertical-align: top;\n",
       "    }\n",
       "\n",
       "    .dataframe thead th {\n",
       "        text-align: right;\n",
       "    }\n",
       "</style>\n",
       "<table border=\"1\" class=\"dataframe\">\n",
       "  <thead>\n",
       "    <tr style=\"text-align: right;\">\n",
       "      <th></th>\n",
       "      <th>doublet</th>\n",
       "    </tr>\n",
       "  </thead>\n",
       "  <tbody>\n",
       "    <tr>\n",
       "      <th>TAGGTACCATGGCCAC-1_1</th>\n",
       "      <td>True</td>\n",
       "    </tr>\n",
       "    <tr>\n",
       "      <th>ATTCACTGTAACAGGC-1_1</th>\n",
       "      <td>True</td>\n",
       "    </tr>\n",
       "    <tr>\n",
       "      <th>TAACTTCCAACCACGC-1_1</th>\n",
       "      <td>False</td>\n",
       "    </tr>\n",
       "    <tr>\n",
       "      <th>TTGGGTACACGACAAG-1_1</th>\n",
       "      <td>True</td>\n",
       "    </tr>\n",
       "    <tr>\n",
       "      <th>AGGCCACAGAGTCACG-1_1</th>\n",
       "      <td>True</td>\n",
       "    </tr>\n",
       "    <tr>\n",
       "      <th>...</th>\n",
       "      <td>...</td>\n",
       "    </tr>\n",
       "    <tr>\n",
       "      <th>CGCCATTGTTTGCCGG-1_1</th>\n",
       "      <td>False</td>\n",
       "    </tr>\n",
       "    <tr>\n",
       "      <th>CACTGGGGTCTACGTA-1_1</th>\n",
       "      <td>False</td>\n",
       "    </tr>\n",
       "    <tr>\n",
       "      <th>CATACTTGTAGAGGAA-1_1</th>\n",
       "      <td>False</td>\n",
       "    </tr>\n",
       "    <tr>\n",
       "      <th>TTTGGTTTCCACGGAC-1_1</th>\n",
       "      <td>False</td>\n",
       "    </tr>\n",
       "    <tr>\n",
       "      <th>ATGCATGAGTCATGAA-1_1</th>\n",
       "      <td>False</td>\n",
       "    </tr>\n",
       "  </tbody>\n",
       "</table>\n",
       "<p>6099 rows × 1 columns</p>\n",
       "</div>"
      ],
      "text/plain": [
       "                      doublet\n",
       "TAGGTACCATGGCCAC-1_1     True\n",
       "ATTCACTGTAACAGGC-1_1     True\n",
       "TAACTTCCAACCACGC-1_1    False\n",
       "TTGGGTACACGACAAG-1_1     True\n",
       "AGGCCACAGAGTCACG-1_1     True\n",
       "...                       ...\n",
       "CGCCATTGTTTGCCGG-1_1    False\n",
       "CACTGGGGTCTACGTA-1_1    False\n",
       "CATACTTGTAGAGGAA-1_1    False\n",
       "TTTGGTTTCCACGGAC-1_1    False\n",
       "ATGCATGAGTCATGAA-1_1    False\n",
       "\n",
       "[6099 rows x 1 columns]"
      ]
     },
     "execution_count": 15,
     "metadata": {},
     "output_type": "execute_result"
    }
   ],
   "source": [
    "adata.obs"
   ]
  },
  {
   "cell_type": "code",
   "execution_count": 16,
   "metadata": {},
   "outputs": [],
   "source": [
    "adata = adata[~adata.obs.doublet]"
   ]
  },
  {
   "cell_type": "code",
   "execution_count": 17,
   "metadata": {},
   "outputs": [
    {
     "data": {
      "text/plain": [
       "View of AnnData object with n_obs × n_vars = 5582 × 34546\n",
       "    obs: 'doublet'"
      ]
     },
     "execution_count": 17,
     "metadata": {},
     "output_type": "execute_result"
    }
   ],
   "source": [
    "adata"
   ]
  },
  {
   "cell_type": "markdown",
   "metadata": {},
   "source": [
    "## Preprocessing"
   ]
  },
  {
   "cell_type": "code",
   "execution_count": 18,
   "metadata": {},
   "outputs": [
    {
     "name": "stderr",
     "output_type": "stream",
     "text": [
      "/tmp/ipykernel_10220/310233584.py:1: ImplicitModificationWarning: Trying to modify attribute `.var` of view, initializing view as actual.\n",
      "  adata.var['mt'] = adata.var.index.str.startswith('MT-')\n"
     ]
    }
   ],
   "source": [
    "adata.var['mt'] = adata.var.index.str.startswith('MT-')"
   ]
  },
  {
   "cell_type": "code",
   "execution_count": 19,
   "metadata": {},
   "outputs": [],
   "source": [
    "response = requests.get('https://www.gsea-msigdb.org/gsea/msigdb/download_geneset.jsp?geneSetName=KEGG_RIBOSOME&fileType=json').json()\n",
    "ribo_genes = response[\"KEGG_RIBOSOME\"]['geneSymbols']\n",
    "\n",
    "ribo_genes = np.array(ribo_genes)"
   ]
  },
  {
   "cell_type": "code",
   "execution_count": 20,
   "metadata": {},
   "outputs": [],
   "source": [
    "adata.var['ribo'] = adata.var.index.isin(ribo_genes)"
   ]
  },
  {
   "cell_type": "code",
   "execution_count": 21,
   "metadata": {},
   "outputs": [
    {
     "data": {
      "text/html": [
       "<div>\n",
       "<style scoped>\n",
       "    .dataframe tbody tr th:only-of-type {\n",
       "        vertical-align: middle;\n",
       "    }\n",
       "\n",
       "    .dataframe tbody tr th {\n",
       "        vertical-align: top;\n",
       "    }\n",
       "\n",
       "    .dataframe thead th {\n",
       "        text-align: right;\n",
       "    }\n",
       "</style>\n",
       "<table border=\"1\" class=\"dataframe\">\n",
       "  <thead>\n",
       "    <tr style=\"text-align: right;\">\n",
       "      <th></th>\n",
       "      <th>mt</th>\n",
       "      <th>ribo</th>\n",
       "    </tr>\n",
       "  </thead>\n",
       "  <tbody>\n",
       "    <tr>\n",
       "      <th>RPL22</th>\n",
       "      <td>False</td>\n",
       "      <td>True</td>\n",
       "    </tr>\n",
       "    <tr>\n",
       "      <th>RPL11</th>\n",
       "      <td>False</td>\n",
       "      <td>True</td>\n",
       "    </tr>\n",
       "    <tr>\n",
       "      <th>RPS8</th>\n",
       "      <td>False</td>\n",
       "      <td>True</td>\n",
       "    </tr>\n",
       "    <tr>\n",
       "      <th>RPL5</th>\n",
       "      <td>False</td>\n",
       "      <td>True</td>\n",
       "    </tr>\n",
       "    <tr>\n",
       "      <th>RPS27</th>\n",
       "      <td>False</td>\n",
       "      <td>True</td>\n",
       "    </tr>\n",
       "    <tr>\n",
       "      <th>...</th>\n",
       "      <td>...</td>\n",
       "      <td>...</td>\n",
       "    </tr>\n",
       "    <tr>\n",
       "      <th>RPS4X</th>\n",
       "      <td>False</td>\n",
       "      <td>True</td>\n",
       "    </tr>\n",
       "    <tr>\n",
       "      <th>RPL36A</th>\n",
       "      <td>False</td>\n",
       "      <td>True</td>\n",
       "    </tr>\n",
       "    <tr>\n",
       "      <th>RPL39</th>\n",
       "      <td>False</td>\n",
       "      <td>True</td>\n",
       "    </tr>\n",
       "    <tr>\n",
       "      <th>RPL10</th>\n",
       "      <td>False</td>\n",
       "      <td>True</td>\n",
       "    </tr>\n",
       "    <tr>\n",
       "      <th>RPS4Y1</th>\n",
       "      <td>False</td>\n",
       "      <td>True</td>\n",
       "    </tr>\n",
       "  </tbody>\n",
       "</table>\n",
       "<p>86 rows × 2 columns</p>\n",
       "</div>"
      ],
      "text/plain": [
       "           mt  ribo\n",
       "RPL22   False  True\n",
       "RPL11   False  True\n",
       "RPS8    False  True\n",
       "RPL5    False  True\n",
       "RPS27   False  True\n",
       "...       ...   ...\n",
       "RPS4X   False  True\n",
       "RPL36A  False  True\n",
       "RPL39   False  True\n",
       "RPL10   False  True\n",
       "RPS4Y1  False  True\n",
       "\n",
       "[86 rows x 2 columns]"
      ]
     },
     "execution_count": 21,
     "metadata": {},
     "output_type": "execute_result"
    }
   ],
   "source": [
    "adata.var[adata.var.ribo == True]"
   ]
  },
  {
   "cell_type": "code",
   "execution_count": 22,
   "metadata": {},
   "outputs": [],
   "source": [
    "sc.pp.calculate_qc_metrics(adata, qc_vars=['mt', 'ribo'], percent_top=None, log1p=False, inplace=True)"
   ]
  },
  {
   "cell_type": "code",
   "execution_count": 23,
   "metadata": {},
   "outputs": [
    {
     "data": {
      "text/html": [
       "<div>\n",
       "<style scoped>\n",
       "    .dataframe tbody tr th:only-of-type {\n",
       "        vertical-align: middle;\n",
       "    }\n",
       "\n",
       "    .dataframe tbody tr th {\n",
       "        vertical-align: top;\n",
       "    }\n",
       "\n",
       "    .dataframe thead th {\n",
       "        text-align: right;\n",
       "    }\n",
       "</style>\n",
       "<table border=\"1\" class=\"dataframe\">\n",
       "  <thead>\n",
       "    <tr style=\"text-align: right;\">\n",
       "      <th></th>\n",
       "      <th>doublet</th>\n",
       "      <th>n_genes_by_counts</th>\n",
       "      <th>total_counts</th>\n",
       "      <th>total_counts_mt</th>\n",
       "      <th>pct_counts_mt</th>\n",
       "      <th>total_counts_ribo</th>\n",
       "      <th>pct_counts_ribo</th>\n",
       "    </tr>\n",
       "  </thead>\n",
       "  <tbody>\n",
       "    <tr>\n",
       "      <th>TAACTTCCAACCACGC-1_1</th>\n",
       "      <td>False</td>\n",
       "      <td>5158</td>\n",
       "      <td>15645.0</td>\n",
       "      <td>221.0</td>\n",
       "      <td>1.412592</td>\n",
       "      <td>211.0</td>\n",
       "      <td>1.348674</td>\n",
       "    </tr>\n",
       "    <tr>\n",
       "      <th>TTGGTTTTCCTAGCTC-1_1</th>\n",
       "      <td>False</td>\n",
       "      <td>3902</td>\n",
       "      <td>11472.0</td>\n",
       "      <td>463.0</td>\n",
       "      <td>4.035913</td>\n",
       "      <td>13.0</td>\n",
       "      <td>0.113319</td>\n",
       "    </tr>\n",
       "    <tr>\n",
       "      <th>CGCATAACATGCCGGT-1_1</th>\n",
       "      <td>False</td>\n",
       "      <td>3745</td>\n",
       "      <td>8617.0</td>\n",
       "      <td>119.0</td>\n",
       "      <td>1.380991</td>\n",
       "      <td>25.0</td>\n",
       "      <td>0.290124</td>\n",
       "    </tr>\n",
       "    <tr>\n",
       "      <th>TCTATCACAAGGCTTT-1_1</th>\n",
       "      <td>False</td>\n",
       "      <td>3582</td>\n",
       "      <td>8276.0</td>\n",
       "      <td>183.0</td>\n",
       "      <td>2.211213</td>\n",
       "      <td>5.0</td>\n",
       "      <td>0.060416</td>\n",
       "    </tr>\n",
       "    <tr>\n",
       "      <th>ATCCACCAGAGGTATT-1_1</th>\n",
       "      <td>False</td>\n",
       "      <td>3913</td>\n",
       "      <td>8286.0</td>\n",
       "      <td>191.0</td>\n",
       "      <td>2.305093</td>\n",
       "      <td>34.0</td>\n",
       "      <td>0.410331</td>\n",
       "    </tr>\n",
       "    <tr>\n",
       "      <th>...</th>\n",
       "      <td>...</td>\n",
       "      <td>...</td>\n",
       "      <td>...</td>\n",
       "      <td>...</td>\n",
       "      <td>...</td>\n",
       "      <td>...</td>\n",
       "      <td>...</td>\n",
       "    </tr>\n",
       "    <tr>\n",
       "      <th>CGCCATTGTTTGCCGG-1_1</th>\n",
       "      <td>False</td>\n",
       "      <td>355</td>\n",
       "      <td>410.0</td>\n",
       "      <td>3.0</td>\n",
       "      <td>0.731707</td>\n",
       "      <td>0.0</td>\n",
       "      <td>0.000000</td>\n",
       "    </tr>\n",
       "    <tr>\n",
       "      <th>CACTGGGGTCTACGTA-1_1</th>\n",
       "      <td>False</td>\n",
       "      <td>346</td>\n",
       "      <td>403.0</td>\n",
       "      <td>0.0</td>\n",
       "      <td>0.000000</td>\n",
       "      <td>0.0</td>\n",
       "      <td>0.000000</td>\n",
       "    </tr>\n",
       "    <tr>\n",
       "      <th>CATACTTGTAGAGGAA-1_1</th>\n",
       "      <td>False</td>\n",
       "      <td>360</td>\n",
       "      <td>410.0</td>\n",
       "      <td>2.0</td>\n",
       "      <td>0.487805</td>\n",
       "      <td>0.0</td>\n",
       "      <td>0.000000</td>\n",
       "    </tr>\n",
       "    <tr>\n",
       "      <th>TTTGGTTTCCACGGAC-1_1</th>\n",
       "      <td>False</td>\n",
       "      <td>299</td>\n",
       "      <td>405.0</td>\n",
       "      <td>0.0</td>\n",
       "      <td>0.000000</td>\n",
       "      <td>2.0</td>\n",
       "      <td>0.493827</td>\n",
       "    </tr>\n",
       "    <tr>\n",
       "      <th>ATGCATGAGTCATGAA-1_1</th>\n",
       "      <td>False</td>\n",
       "      <td>351</td>\n",
       "      <td>411.0</td>\n",
       "      <td>0.0</td>\n",
       "      <td>0.000000</td>\n",
       "      <td>0.0</td>\n",
       "      <td>0.000000</td>\n",
       "    </tr>\n",
       "  </tbody>\n",
       "</table>\n",
       "<p>5582 rows × 7 columns</p>\n",
       "</div>"
      ],
      "text/plain": [
       "                      doublet  n_genes_by_counts  total_counts  \\\n",
       "TAACTTCCAACCACGC-1_1    False               5158       15645.0   \n",
       "TTGGTTTTCCTAGCTC-1_1    False               3902       11472.0   \n",
       "CGCATAACATGCCGGT-1_1    False               3745        8617.0   \n",
       "TCTATCACAAGGCTTT-1_1    False               3582        8276.0   \n",
       "ATCCACCAGAGGTATT-1_1    False               3913        8286.0   \n",
       "...                       ...                ...           ...   \n",
       "CGCCATTGTTTGCCGG-1_1    False                355         410.0   \n",
       "CACTGGGGTCTACGTA-1_1    False                346         403.0   \n",
       "CATACTTGTAGAGGAA-1_1    False                360         410.0   \n",
       "TTTGGTTTCCACGGAC-1_1    False                299         405.0   \n",
       "ATGCATGAGTCATGAA-1_1    False                351         411.0   \n",
       "\n",
       "                      total_counts_mt  pct_counts_mt  total_counts_ribo  \\\n",
       "TAACTTCCAACCACGC-1_1            221.0       1.412592              211.0   \n",
       "TTGGTTTTCCTAGCTC-1_1            463.0       4.035913               13.0   \n",
       "CGCATAACATGCCGGT-1_1            119.0       1.380991               25.0   \n",
       "TCTATCACAAGGCTTT-1_1            183.0       2.211213                5.0   \n",
       "ATCCACCAGAGGTATT-1_1            191.0       2.305093               34.0   \n",
       "...                               ...            ...                ...   \n",
       "CGCCATTGTTTGCCGG-1_1              3.0       0.731707                0.0   \n",
       "CACTGGGGTCTACGTA-1_1              0.0       0.000000                0.0   \n",
       "CATACTTGTAGAGGAA-1_1              2.0       0.487805                0.0   \n",
       "TTTGGTTTCCACGGAC-1_1              0.0       0.000000                2.0   \n",
       "ATGCATGAGTCATGAA-1_1              0.0       0.000000                0.0   \n",
       "\n",
       "                      pct_counts_ribo  \n",
       "TAACTTCCAACCACGC-1_1         1.348674  \n",
       "TTGGTTTTCCTAGCTC-1_1         0.113319  \n",
       "CGCATAACATGCCGGT-1_1         0.290124  \n",
       "TCTATCACAAGGCTTT-1_1         0.060416  \n",
       "ATCCACCAGAGGTATT-1_1         0.410331  \n",
       "...                               ...  \n",
       "CGCCATTGTTTGCCGG-1_1         0.000000  \n",
       "CACTGGGGTCTACGTA-1_1         0.000000  \n",
       "CATACTTGTAGAGGAA-1_1         0.000000  \n",
       "TTTGGTTTCCACGGAC-1_1         0.493827  \n",
       "ATGCATGAGTCATGAA-1_1         0.000000  \n",
       "\n",
       "[5582 rows x 7 columns]"
      ]
     },
     "execution_count": 23,
     "metadata": {},
     "output_type": "execute_result"
    }
   ],
   "source": [
    "adata.obs"
   ]
  },
  {
   "cell_type": "code",
   "execution_count": 24,
   "metadata": {},
   "outputs": [
    {
     "data": {
      "text/html": [
       "<div>\n",
       "<style scoped>\n",
       "    .dataframe tbody tr th:only-of-type {\n",
       "        vertical-align: middle;\n",
       "    }\n",
       "\n",
       "    .dataframe tbody tr th {\n",
       "        vertical-align: top;\n",
       "    }\n",
       "\n",
       "    .dataframe thead th {\n",
       "        text-align: right;\n",
       "    }\n",
       "</style>\n",
       "<table border=\"1\" class=\"dataframe\">\n",
       "  <thead>\n",
       "    <tr style=\"text-align: right;\">\n",
       "      <th></th>\n",
       "      <th>mt</th>\n",
       "      <th>ribo</th>\n",
       "      <th>n_cells_by_counts</th>\n",
       "      <th>mean_counts</th>\n",
       "      <th>pct_dropout_by_counts</th>\n",
       "      <th>total_counts</th>\n",
       "    </tr>\n",
       "  </thead>\n",
       "  <tbody>\n",
       "    <tr>\n",
       "      <th>AL445072.1</th>\n",
       "      <td>False</td>\n",
       "      <td>False</td>\n",
       "      <td>0</td>\n",
       "      <td>0.000000</td>\n",
       "      <td>100.000000</td>\n",
       "      <td>0.0</td>\n",
       "    </tr>\n",
       "    <tr>\n",
       "      <th>AC025614.2</th>\n",
       "      <td>False</td>\n",
       "      <td>False</td>\n",
       "      <td>0</td>\n",
       "      <td>0.000000</td>\n",
       "      <td>100.000000</td>\n",
       "      <td>0.0</td>\n",
       "    </tr>\n",
       "    <tr>\n",
       "      <th>LINC02022</th>\n",
       "      <td>False</td>\n",
       "      <td>False</td>\n",
       "      <td>0</td>\n",
       "      <td>0.000000</td>\n",
       "      <td>100.000000</td>\n",
       "      <td>0.0</td>\n",
       "    </tr>\n",
       "    <tr>\n",
       "      <th>AC090952.1</th>\n",
       "      <td>False</td>\n",
       "      <td>False</td>\n",
       "      <td>0</td>\n",
       "      <td>0.000000</td>\n",
       "      <td>100.000000</td>\n",
       "      <td>0.0</td>\n",
       "    </tr>\n",
       "    <tr>\n",
       "      <th>AC090644.1</th>\n",
       "      <td>False</td>\n",
       "      <td>False</td>\n",
       "      <td>0</td>\n",
       "      <td>0.000000</td>\n",
       "      <td>100.000000</td>\n",
       "      <td>0.0</td>\n",
       "    </tr>\n",
       "    <tr>\n",
       "      <th>...</th>\n",
       "      <td>...</td>\n",
       "      <td>...</td>\n",
       "      <td>...</td>\n",
       "      <td>...</td>\n",
       "      <td>...</td>\n",
       "      <td>...</td>\n",
       "    </tr>\n",
       "    <tr>\n",
       "      <th>AKAP13</th>\n",
       "      <td>False</td>\n",
       "      <td>False</td>\n",
       "      <td>3998</td>\n",
       "      <td>2.828914</td>\n",
       "      <td>28.376926</td>\n",
       "      <td>15791.0</td>\n",
       "    </tr>\n",
       "    <tr>\n",
       "      <th>NEAT1</th>\n",
       "      <td>False</td>\n",
       "      <td>False</td>\n",
       "      <td>4075</td>\n",
       "      <td>4.852203</td>\n",
       "      <td>26.997492</td>\n",
       "      <td>27085.0</td>\n",
       "    </tr>\n",
       "    <tr>\n",
       "      <th>MBNL1</th>\n",
       "      <td>False</td>\n",
       "      <td>False</td>\n",
       "      <td>4094</td>\n",
       "      <td>2.645109</td>\n",
       "      <td>26.657112</td>\n",
       "      <td>14765.0</td>\n",
       "    </tr>\n",
       "    <tr>\n",
       "      <th>ZBTB20</th>\n",
       "      <td>False</td>\n",
       "      <td>False</td>\n",
       "      <td>4212</td>\n",
       "      <td>2.377284</td>\n",
       "      <td>24.543174</td>\n",
       "      <td>13270.0</td>\n",
       "    </tr>\n",
       "    <tr>\n",
       "      <th>MALAT1</th>\n",
       "      <td>False</td>\n",
       "      <td>False</td>\n",
       "      <td>5573</td>\n",
       "      <td>63.408634</td>\n",
       "      <td>0.161233</td>\n",
       "      <td>353947.0</td>\n",
       "    </tr>\n",
       "  </tbody>\n",
       "</table>\n",
       "<p>34546 rows × 6 columns</p>\n",
       "</div>"
      ],
      "text/plain": [
       "               mt   ribo  n_cells_by_counts  mean_counts  \\\n",
       "AL445072.1  False  False                  0     0.000000   \n",
       "AC025614.2  False  False                  0     0.000000   \n",
       "LINC02022   False  False                  0     0.000000   \n",
       "AC090952.1  False  False                  0     0.000000   \n",
       "AC090644.1  False  False                  0     0.000000   \n",
       "...           ...    ...                ...          ...   \n",
       "AKAP13      False  False               3998     2.828914   \n",
       "NEAT1       False  False               4075     4.852203   \n",
       "MBNL1       False  False               4094     2.645109   \n",
       "ZBTB20      False  False               4212     2.377284   \n",
       "MALAT1      False  False               5573    63.408634   \n",
       "\n",
       "            pct_dropout_by_counts  total_counts  \n",
       "AL445072.1             100.000000           0.0  \n",
       "AC025614.2             100.000000           0.0  \n",
       "LINC02022              100.000000           0.0  \n",
       "AC090952.1             100.000000           0.0  \n",
       "AC090644.1             100.000000           0.0  \n",
       "...                           ...           ...  \n",
       "AKAP13                  28.376926       15791.0  \n",
       "NEAT1                   26.997492       27085.0  \n",
       "MBNL1                   26.657112       14765.0  \n",
       "ZBTB20                  24.543174       13270.0  \n",
       "MALAT1                   0.161233      353947.0  \n",
       "\n",
       "[34546 rows x 6 columns]"
      ]
     },
     "execution_count": 24,
     "metadata": {},
     "output_type": "execute_result"
    }
   ],
   "source": [
    "adata.var.sort_values('n_cells_by_counts')"
   ]
  },
  {
   "cell_type": "code",
   "execution_count": 25,
   "metadata": {},
   "outputs": [],
   "source": [
    "sc.pp.filter_genes(adata, min_cells=3)"
   ]
  },
  {
   "cell_type": "code",
   "execution_count": 26,
   "metadata": {},
   "outputs": [
    {
     "data": {
      "text/html": [
       "<div>\n",
       "<style scoped>\n",
       "    .dataframe tbody tr th:only-of-type {\n",
       "        vertical-align: middle;\n",
       "    }\n",
       "\n",
       "    .dataframe tbody tr th {\n",
       "        vertical-align: top;\n",
       "    }\n",
       "\n",
       "    .dataframe thead th {\n",
       "        text-align: right;\n",
       "    }\n",
       "</style>\n",
       "<table border=\"1\" class=\"dataframe\">\n",
       "  <thead>\n",
       "    <tr style=\"text-align: right;\">\n",
       "      <th></th>\n",
       "      <th>doublet</th>\n",
       "      <th>n_genes_by_counts</th>\n",
       "      <th>total_counts</th>\n",
       "      <th>total_counts_mt</th>\n",
       "      <th>pct_counts_mt</th>\n",
       "      <th>total_counts_ribo</th>\n",
       "      <th>pct_counts_ribo</th>\n",
       "    </tr>\n",
       "  </thead>\n",
       "  <tbody>\n",
       "    <tr>\n",
       "      <th>CTCAACCGTTTGGGAG-1_1</th>\n",
       "      <td>False</td>\n",
       "      <td>325</td>\n",
       "      <td>401.0</td>\n",
       "      <td>0.0</td>\n",
       "      <td>0.000000</td>\n",
       "      <td>0.0</td>\n",
       "      <td>0.000000</td>\n",
       "    </tr>\n",
       "    <tr>\n",
       "      <th>TGGTACAGTTGGTGTT-1_1</th>\n",
       "      <td>False</td>\n",
       "      <td>323</td>\n",
       "      <td>401.0</td>\n",
       "      <td>0.0</td>\n",
       "      <td>0.000000</td>\n",
       "      <td>0.0</td>\n",
       "      <td>0.000000</td>\n",
       "    </tr>\n",
       "    <tr>\n",
       "      <th>AGGCATTCATCCGTTC-1_1</th>\n",
       "      <td>False</td>\n",
       "      <td>290</td>\n",
       "      <td>401.0</td>\n",
       "      <td>1.0</td>\n",
       "      <td>0.249377</td>\n",
       "      <td>0.0</td>\n",
       "      <td>0.000000</td>\n",
       "    </tr>\n",
       "    <tr>\n",
       "      <th>GTCGTTCTCCAAGGGA-1_1</th>\n",
       "      <td>False</td>\n",
       "      <td>300</td>\n",
       "      <td>401.0</td>\n",
       "      <td>0.0</td>\n",
       "      <td>0.000000</td>\n",
       "      <td>0.0</td>\n",
       "      <td>0.000000</td>\n",
       "    </tr>\n",
       "    <tr>\n",
       "      <th>CGAGAAGGTGAACTAA-1_1</th>\n",
       "      <td>False</td>\n",
       "      <td>308</td>\n",
       "      <td>401.0</td>\n",
       "      <td>0.0</td>\n",
       "      <td>0.000000</td>\n",
       "      <td>0.0</td>\n",
       "      <td>0.000000</td>\n",
       "    </tr>\n",
       "    <tr>\n",
       "      <th>...</th>\n",
       "      <td>...</td>\n",
       "      <td>...</td>\n",
       "      <td>...</td>\n",
       "      <td>...</td>\n",
       "      <td>...</td>\n",
       "      <td>...</td>\n",
       "      <td>...</td>\n",
       "    </tr>\n",
       "    <tr>\n",
       "      <th>TCTATCACAAGGCTTT-1_1</th>\n",
       "      <td>False</td>\n",
       "      <td>3582</td>\n",
       "      <td>8276.0</td>\n",
       "      <td>183.0</td>\n",
       "      <td>2.211213</td>\n",
       "      <td>5.0</td>\n",
       "      <td>0.060416</td>\n",
       "    </tr>\n",
       "    <tr>\n",
       "      <th>ATCCACCAGAGGTATT-1_1</th>\n",
       "      <td>False</td>\n",
       "      <td>3913</td>\n",
       "      <td>8286.0</td>\n",
       "      <td>191.0</td>\n",
       "      <td>2.305093</td>\n",
       "      <td>34.0</td>\n",
       "      <td>0.410331</td>\n",
       "    </tr>\n",
       "    <tr>\n",
       "      <th>CGCATAACATGCCGGT-1_1</th>\n",
       "      <td>False</td>\n",
       "      <td>3745</td>\n",
       "      <td>8617.0</td>\n",
       "      <td>119.0</td>\n",
       "      <td>1.380991</td>\n",
       "      <td>25.0</td>\n",
       "      <td>0.290124</td>\n",
       "    </tr>\n",
       "    <tr>\n",
       "      <th>TTGGTTTTCCTAGCTC-1_1</th>\n",
       "      <td>False</td>\n",
       "      <td>3902</td>\n",
       "      <td>11472.0</td>\n",
       "      <td>463.0</td>\n",
       "      <td>4.035913</td>\n",
       "      <td>13.0</td>\n",
       "      <td>0.113319</td>\n",
       "    </tr>\n",
       "    <tr>\n",
       "      <th>TAACTTCCAACCACGC-1_1</th>\n",
       "      <td>False</td>\n",
       "      <td>5158</td>\n",
       "      <td>15645.0</td>\n",
       "      <td>221.0</td>\n",
       "      <td>1.412592</td>\n",
       "      <td>211.0</td>\n",
       "      <td>1.348674</td>\n",
       "    </tr>\n",
       "  </tbody>\n",
       "</table>\n",
       "<p>5582 rows × 7 columns</p>\n",
       "</div>"
      ],
      "text/plain": [
       "                      doublet  n_genes_by_counts  total_counts  \\\n",
       "CTCAACCGTTTGGGAG-1_1    False                325         401.0   \n",
       "TGGTACAGTTGGTGTT-1_1    False                323         401.0   \n",
       "AGGCATTCATCCGTTC-1_1    False                290         401.0   \n",
       "GTCGTTCTCCAAGGGA-1_1    False                300         401.0   \n",
       "CGAGAAGGTGAACTAA-1_1    False                308         401.0   \n",
       "...                       ...                ...           ...   \n",
       "TCTATCACAAGGCTTT-1_1    False               3582        8276.0   \n",
       "ATCCACCAGAGGTATT-1_1    False               3913        8286.0   \n",
       "CGCATAACATGCCGGT-1_1    False               3745        8617.0   \n",
       "TTGGTTTTCCTAGCTC-1_1    False               3902       11472.0   \n",
       "TAACTTCCAACCACGC-1_1    False               5158       15645.0   \n",
       "\n",
       "                      total_counts_mt  pct_counts_mt  total_counts_ribo  \\\n",
       "CTCAACCGTTTGGGAG-1_1              0.0       0.000000                0.0   \n",
       "TGGTACAGTTGGTGTT-1_1              0.0       0.000000                0.0   \n",
       "AGGCATTCATCCGTTC-1_1              1.0       0.249377                0.0   \n",
       "GTCGTTCTCCAAGGGA-1_1              0.0       0.000000                0.0   \n",
       "CGAGAAGGTGAACTAA-1_1              0.0       0.000000                0.0   \n",
       "...                               ...            ...                ...   \n",
       "TCTATCACAAGGCTTT-1_1            183.0       2.211213                5.0   \n",
       "ATCCACCAGAGGTATT-1_1            191.0       2.305093               34.0   \n",
       "CGCATAACATGCCGGT-1_1            119.0       1.380991               25.0   \n",
       "TTGGTTTTCCTAGCTC-1_1            463.0       4.035913               13.0   \n",
       "TAACTTCCAACCACGC-1_1            221.0       1.412592              211.0   \n",
       "\n",
       "                      pct_counts_ribo  \n",
       "CTCAACCGTTTGGGAG-1_1         0.000000  \n",
       "TGGTACAGTTGGTGTT-1_1         0.000000  \n",
       "AGGCATTCATCCGTTC-1_1         0.000000  \n",
       "GTCGTTCTCCAAGGGA-1_1         0.000000  \n",
       "CGAGAAGGTGAACTAA-1_1         0.000000  \n",
       "...                               ...  \n",
       "TCTATCACAAGGCTTT-1_1         0.060416  \n",
       "ATCCACCAGAGGTATT-1_1         0.410331  \n",
       "CGCATAACATGCCGGT-1_1         0.290124  \n",
       "TTGGTTTTCCTAGCTC-1_1         0.113319  \n",
       "TAACTTCCAACCACGC-1_1         1.348674  \n",
       "\n",
       "[5582 rows x 7 columns]"
      ]
     },
     "execution_count": 26,
     "metadata": {},
     "output_type": "execute_result"
    }
   ],
   "source": [
    "adata.obs.sort_values('total_counts')"
   ]
  },
  {
   "cell_type": "code",
   "execution_count": 27,
   "metadata": {},
   "outputs": [
    {
     "name": "stderr",
     "output_type": "stream",
     "text": [
      "/home/victor/anaconda3/envs/rna/lib/python3.10/site-packages/seaborn/axisgrid.py:118: UserWarning: The figure layout has changed to tight\n",
      "  self._figure.tight_layout(*args, **kwargs)\n"
     ]
    },
    {
     "data": {
      "image/png": "[encoded data removed]",
      "text/plain": [
       "<Figure size 2000x500 with 4 Axes>"
      ]
     },
     "metadata": {},
     "output_type": "display_data"
    }
   ],
   "source": [
    "sc.pl.violin(adata, ['n_genes_by_counts', 'total_counts', 'pct_counts_mt', 'pct_counts_ribo'], jitter=0.4, multi_panel=True)"
   ]
  },
  {
   "cell_type": "code",
   "execution_count": 29,
   "metadata": {},
   "outputs": [
    {
     "data": {
      "text/plain": [
       "View of AnnData object with n_obs × n_vars = 5455 × 23985\n",
       "    obs: 'doublet', 'n_genes_by_counts', 'total_counts', 'total_counts_mt', 'pct_counts_mt', 'total_counts_ribo', 'pct_counts_ribo'\n",
       "    var: 'mt', 'ribo', 'n_cells_by_counts', 'mean_counts', 'pct_dropout_by_counts', 'total_counts', 'n_cells'"
      ]
     },
     "execution_count": 29,
     "metadata": {},
     "output_type": "execute_result"
    }
   ],
   "source": [
    "upper_lim = np.quantile(adata.obs.n_genes_by_counts, .98)\n",
    "adata = adata[adata.obs.n_genes_by_counts < upper_lim]\n",
    "adata = adata[adata.obs.pct_counts_mt < 20]\n",
    "adata = adata[adata.obs.pct_counts_ribo < 2]\n",
    "adata"
   ]
  },
  {
   "cell_type": "markdown",
   "metadata": {},
   "source": [
    "## Normalization"
   ]
  },
  {
   "cell_type": "code",
   "execution_count": 31,
   "metadata": {},
   "outputs": [
    {
     "data": {
      "text/plain": [
       "array([5250., 4877., 4783., ...,  410.,  405.,  410.], dtype=float32)"
      ]
     },
     "execution_count": 31,
     "metadata": {},
     "output_type": "execute_result"
    }
   ],
   "source": [
    "adata.X.sum(axis = 1)"
   ]
  },
  {
   "cell_type": "code",
   "execution_count": 33,
   "metadata": {},
   "outputs": [
    {
     "data": {
      "text/plain": [
       "array([10000., 10000., 10000., ..., 10000., 10000., 10000.], dtype=float32)"
      ]
     },
     "execution_count": 33,
     "metadata": {},
     "output_type": "execute_result"
    }
   ],
   "source": [
    "sc.pp.normalize_total(adata, target_sum=1e4)\n",
    "adata.X.sum(axis = 1)"
   ]
  },
  {
   "cell_type": "code",
   "execution_count": 34,
   "metadata": {},
   "outputs": [
    {
     "data": {
      "text/plain": [
       "array([2858.1602, 3131.0637, 3076.6455, ..., 1191.2706, 1022.7511,\n",
       "       1162.8784], dtype=float32)"
      ]
     },
     "execution_count": 34,
     "metadata": {},
     "output_type": "execute_result"
    }
   ],
   "source": [
    "sc.pp.log1p(adata) # change to log counts\n",
    "adata.X.sum(axis = 1)"
   ]
  },
  {
   "cell_type": "code",
   "execution_count": 35,
   "metadata": {},
   "outputs": [],
   "source": [
    "adata.raw = adata"
   ]
  },
  {
   "cell_type": "markdown",
   "metadata": {},
   "source": []
  }
 ],
 "metadata": {
  "kernelspec": {
   "display_name": "rna",
   "language": "python",
   "name": "python3"
  },
  "language_info": {
   "codemirror_mode": {
    "name": "ipython",
    "version": 3
   },
   "file_extension": ".py",
   "mimetype": "text/x-python",
   "name": "python",
   "nbconvert_exporter": "python",
   "pygments_lexer": "ipython3",
   "version": "3.10.13"
  }
 },
 "nbformat": 4,
 "nbformat_minor": 2
}
